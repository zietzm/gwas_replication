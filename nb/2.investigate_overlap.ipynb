{
 "cells": [
  {
   "cell_type": "code",
   "execution_count": 1,
   "metadata": {},
   "outputs": [
    {
     "name": "stderr",
     "output_type": "stream",
     "text": [
      "Loading required package: grid\n",
      "Loading required package: futile.logger\n",
      "── Attaching packages ─────────────────────────────────────── tidyverse 1.2.1 ──\n",
      "✔ ggplot2 3.2.1     ✔ purrr   0.3.3\n",
      "✔ tibble  2.1.3     ✔ dplyr   0.8.3\n",
      "✔ tidyr   1.0.0     ✔ stringr 1.4.0\n",
      "✔ readr   1.3.1     ✔ forcats 0.4.0\n",
      "── Conflicts ────────────────────────────────────────── tidyverse_conflicts() ──\n",
      "✖ dplyr::filter() masks stats::filter()\n",
      "✖ dplyr::lag()    masks stats::lag()\n"
     ]
    }
   ],
   "source": [
    "library(VennDiagram)\n",
    "library(tidyverse)\n",
    "library(RColorBrewer)"
   ]
  },
  {
   "cell_type": "code",
   "execution_count": 2,
   "metadata": {},
   "outputs": [
    {
     "name": "stderr",
     "output_type": "stream",
     "text": [
      "Parsed with column specification:\n",
      "cols(\n",
      "  .default = col_character(),\n",
      "  `DATE ADDED TO CATALOG` = col_date(format = \"\"),\n",
      "  PUBMEDID = col_double(),\n",
      "  DATE = col_date(format = \"\"),\n",
      "  CHR_POS = col_double(),\n",
      "  UPSTREAM_GENE_DISTANCE = col_double(),\n",
      "  DOWNSTREAM_GENE_DISTANCE = col_double(),\n",
      "  MERGED = col_double(),\n",
      "  SNP_ID_CURRENT = col_double(),\n",
      "  INTERGENIC = col_double(),\n",
      "  `P-VALUE` = col_double(),\n",
      "  PVALUE_MLOG = col_double(),\n",
      "  `OR or BETA` = col_double()\n",
      ")\n",
      "See spec(...) for full column specifications.\n"
     ]
    },
    {
     "data": {
      "text/html": [
       "<table>\n",
       "<caption>A tibble: 2 × 38</caption>\n",
       "<thead>\n",
       "\t<tr><th scope=col>DATE ADDED TO CATALOG</th><th scope=col>PUBMEDID</th><th scope=col>FIRST AUTHOR</th><th scope=col>DATE</th><th scope=col>JOURNAL</th><th scope=col>LINK</th><th scope=col>STUDY</th><th scope=col>DISEASE/TRAIT</th><th scope=col>INITIAL SAMPLE SIZE</th><th scope=col>REPLICATION SAMPLE SIZE</th><th scope=col>⋯</th><th scope=col>PVALUE_MLOG</th><th scope=col>P-VALUE (TEXT)</th><th scope=col>OR or BETA</th><th scope=col>95% CI (TEXT)</th><th scope=col>PLATFORM [SNPS PASSING QC]</th><th scope=col>CNV</th><th scope=col>MAPPED_TRAIT</th><th scope=col>MAPPED_TRAIT_URI</th><th scope=col>STUDY ACCESSION</th><th scope=col>GENOTYPING TECHNOLOGY</th></tr>\n",
       "\t<tr><th scope=col>&lt;date&gt;</th><th scope=col>&lt;dbl&gt;</th><th scope=col>&lt;chr&gt;</th><th scope=col>&lt;date&gt;</th><th scope=col>&lt;chr&gt;</th><th scope=col>&lt;chr&gt;</th><th scope=col>&lt;chr&gt;</th><th scope=col>&lt;chr&gt;</th><th scope=col>&lt;chr&gt;</th><th scope=col>&lt;chr&gt;</th><th scope=col>⋯</th><th scope=col>&lt;dbl&gt;</th><th scope=col>&lt;chr&gt;</th><th scope=col>&lt;dbl&gt;</th><th scope=col>&lt;chr&gt;</th><th scope=col>&lt;chr&gt;</th><th scope=col>&lt;chr&gt;</th><th scope=col>&lt;chr&gt;</th><th scope=col>&lt;chr&gt;</th><th scope=col>&lt;chr&gt;</th><th scope=col>&lt;chr&gt;</th></tr>\n",
       "</thead>\n",
       "<tbody>\n",
       "\t<tr><td>2019-07-12</td><td>31049640</td><td>Chen J</td><td>2019-05-02</td><td>Diabetologia</td><td>www.ncbi.nlm.nih.gov/pubmed/31049640</td><td>Genome-wide association study of type 2 diabetes in Africa.</td><td>Type 2 diabetes</td><td>2,633 African ancestry cases, 1,714 African ancestry controls</td><td>NA</td><td>⋯</td><td>5.397940</td><td>NA</td><td>1.34</td><td>[1.17-1.53]</td><td>Affymetrix, Illumina [12148595] (imputed)</td><td>N</td><td>type II diabetes mellitus</td><td>http://www.ebi.ac.uk/efo/EFO_0001360</td><td>GCST008114</td><td>Genome-wide genotyping array</td></tr>\n",
       "\t<tr><td>2019-07-12</td><td>31049640</td><td>Chen J</td><td>2019-05-02</td><td>Diabetologia</td><td>www.ncbi.nlm.nih.gov/pubmed/31049640</td><td>Genome-wide association study of type 2 diabetes in Africa.</td><td>Type 2 diabetes</td><td>2,633 African ancestry cases, 1,714 African ancestry controls</td><td>NA</td><td>⋯</td><td>5.045757</td><td>NA</td><td>1.84</td><td>[1.42-2.38]</td><td>Affymetrix, Illumina [12148595] (imputed)</td><td>N</td><td>type II diabetes mellitus</td><td>http://www.ebi.ac.uk/efo/EFO_0001360</td><td>GCST008114</td><td>Genome-wide genotyping array</td></tr>\n",
       "</tbody>\n",
       "</table>\n"
      ],
      "text/latex": [
       "A tibble: 2 × 38\n",
       "\\begin{tabular}{r|llllllllllllllllllllllllllllllllllllll}\n",
       " DATE ADDED TO CATALOG & PUBMEDID & FIRST AUTHOR & DATE & JOURNAL & LINK & STUDY & DISEASE/TRAIT & INITIAL SAMPLE SIZE & REPLICATION SAMPLE SIZE & REGION & CHR\\_ID & CHR\\_POS & REPORTED GENE(S) & MAPPED\\_GENE & UPSTREAM\\_GENE\\_ID & DOWNSTREAM\\_GENE\\_ID & SNP\\_GENE\\_IDS & UPSTREAM\\_GENE\\_DISTANCE & DOWNSTREAM\\_GENE\\_DISTANCE & STRONGEST SNP-RISK ALLELE & SNPS & MERGED & SNP\\_ID\\_CURRENT & CONTEXT & INTERGENIC & RISK ALLELE FREQUENCY & P-VALUE & PVALUE\\_MLOG & P-VALUE (TEXT) & OR or BETA & 95\\% CI (TEXT) & PLATFORM {[}SNPS PASSING QC{]} & CNV & MAPPED\\_TRAIT & MAPPED\\_TRAIT\\_URI & STUDY ACCESSION & GENOTYPING TECHNOLOGY\\\\\n",
       " <date> & <dbl> & <chr> & <date> & <chr> & <chr> & <chr> & <chr> & <chr> & <chr> & <chr> & <chr> & <dbl> & <chr> & <chr> & <chr> & <chr> & <chr> & <dbl> & <dbl> & <chr> & <chr> & <dbl> & <dbl> & <chr> & <dbl> & <chr> & <dbl> & <dbl> & <chr> & <dbl> & <chr> & <chr> & <chr> & <chr> & <chr> & <chr> & <chr>\\\\\n",
       "\\hline\n",
       "\t 2019-07-12 & 31049640 & Chen J & 2019-05-02 & Diabetologia & www.ncbi.nlm.nih.gov/pubmed/31049640 & Genome-wide association study of type 2 diabetes in Africa. & Type 2 diabetes & 2,633 African ancestry cases, 1,714 African ancestry controls & NA & NA     & NA  &      NA & LINC00928, TICRR & NA    & NA & NA & NA              & NA & NA & chr15:90080605-A & chr15:90080605 & 0 &        NA & NA             & 1 & 0.9129999999999999 & 4e-06 & 5.397940 & NA & 1.34 & {[}1.17-1.53{]} & Affymetrix, Illumina {[}12148595{]} (imputed) & N & type II diabetes mellitus & http://www.ebi.ac.uk/efo/EFO\\_0001360 & GCST008114 & Genome-wide genotyping array\\\\\n",
       "\t 2019-07-12 & 31049640 & Chen J & 2019-05-02 & Diabetologia & www.ncbi.nlm.nih.gov/pubmed/31049640 & Genome-wide association study of type 2 diabetes in Africa. & Type 2 diabetes & 2,633 African ancestry cases, 1,714 African ancestry controls & NA & 8p23.2 & 8.0 & 3359886 & CSMD1            & CSMD1 & NA & NA & ENSG00000183117 & NA & NA & rs112328442-C    & rs112328442    & 0 & 112328442 & intron\\_variant & 0 & 0.98               & 9e-06 & 5.045757 & NA & 1.84 & {[}1.42-2.38{]} & Affymetrix, Illumina {[}12148595{]} (imputed) & N & type II diabetes mellitus & http://www.ebi.ac.uk/efo/EFO\\_0001360 & GCST008114 & Genome-wide genotyping array\\\\\n",
       "\\end{tabular}\n"
      ],
      "text/markdown": [
       "\n",
       "A tibble: 2 × 38\n",
       "\n",
       "| DATE ADDED TO CATALOG &lt;date&gt; | PUBMEDID &lt;dbl&gt; | FIRST AUTHOR &lt;chr&gt; | DATE &lt;date&gt; | JOURNAL &lt;chr&gt; | LINK &lt;chr&gt; | STUDY &lt;chr&gt; | DISEASE/TRAIT &lt;chr&gt; | INITIAL SAMPLE SIZE &lt;chr&gt; | REPLICATION SAMPLE SIZE &lt;chr&gt; | ⋯ ⋯ | PVALUE_MLOG &lt;dbl&gt; | P-VALUE (TEXT) &lt;chr&gt; | OR or BETA &lt;dbl&gt; | 95% CI (TEXT) &lt;chr&gt; | PLATFORM [SNPS PASSING QC] &lt;chr&gt; | CNV &lt;chr&gt; | MAPPED_TRAIT &lt;chr&gt; | MAPPED_TRAIT_URI &lt;chr&gt; | STUDY ACCESSION &lt;chr&gt; | GENOTYPING TECHNOLOGY &lt;chr&gt; |\n",
       "|---|---|---|---|---|---|---|---|---|---|---|---|---|---|---|---|---|---|---|---|---|\n",
       "| 2019-07-12 | 31049640 | Chen J | 2019-05-02 | Diabetologia | www.ncbi.nlm.nih.gov/pubmed/31049640 | Genome-wide association study of type 2 diabetes in Africa. | Type 2 diabetes | 2,633 African ancestry cases, 1,714 African ancestry controls | NA | ⋯ | 5.397940 | NA | 1.34 | [1.17-1.53] | Affymetrix, Illumina [12148595] (imputed) | N | type II diabetes mellitus | http://www.ebi.ac.uk/efo/EFO_0001360 | GCST008114 | Genome-wide genotyping array |\n",
       "| 2019-07-12 | 31049640 | Chen J | 2019-05-02 | Diabetologia | www.ncbi.nlm.nih.gov/pubmed/31049640 | Genome-wide association study of type 2 diabetes in Africa. | Type 2 diabetes | 2,633 African ancestry cases, 1,714 African ancestry controls | NA | ⋯ | 5.045757 | NA | 1.84 | [1.42-2.38] | Affymetrix, Illumina [12148595] (imputed) | N | type II diabetes mellitus | http://www.ebi.ac.uk/efo/EFO_0001360 | GCST008114 | Genome-wide genotyping array |\n",
       "\n"
      ],
      "text/plain": [
       "  DATE ADDED TO CATALOG PUBMEDID FIRST AUTHOR DATE       JOURNAL     \n",
       "1 2019-07-12            31049640 Chen J       2019-05-02 Diabetologia\n",
       "2 2019-07-12            31049640 Chen J       2019-05-02 Diabetologia\n",
       "  LINK                                \n",
       "1 www.ncbi.nlm.nih.gov/pubmed/31049640\n",
       "2 www.ncbi.nlm.nih.gov/pubmed/31049640\n",
       "  STUDY                                                       DISEASE/TRAIT  \n",
       "1 Genome-wide association study of type 2 diabetes in Africa. Type 2 diabetes\n",
       "2 Genome-wide association study of type 2 diabetes in Africa. Type 2 diabetes\n",
       "  INITIAL SAMPLE SIZE                                          \n",
       "1 2,633 African ancestry cases, 1,714 African ancestry controls\n",
       "2 2,633 African ancestry cases, 1,714 African ancestry controls\n",
       "  REPLICATION SAMPLE SIZE ⋯ PVALUE_MLOG P-VALUE (TEXT) OR or BETA 95% CI (TEXT)\n",
       "1 NA                      ⋯ 5.397940    NA             1.34       [1.17-1.53]  \n",
       "2 NA                      ⋯ 5.045757    NA             1.84       [1.42-2.38]  \n",
       "  PLATFORM [SNPS PASSING QC]                CNV MAPPED_TRAIT             \n",
       "1 Affymetrix, Illumina [12148595] (imputed) N   type II diabetes mellitus\n",
       "2 Affymetrix, Illumina [12148595] (imputed) N   type II diabetes mellitus\n",
       "  MAPPED_TRAIT_URI                     STUDY ACCESSION\n",
       "1 http://www.ebi.ac.uk/efo/EFO_0001360 GCST008114     \n",
       "2 http://www.ebi.ac.uk/efo/EFO_0001360 GCST008114     \n",
       "  GENOTYPING TECHNOLOGY       \n",
       "1 Genome-wide genotyping array\n",
       "2 Genome-wide genotyping array"
      ]
     },
     "metadata": {},
     "output_type": "display_data"
    }
   ],
   "source": [
    "gwas_df <- read_csv('../data/gwas_catalog/combined.csv')\n",
    "\n",
    "gwas_df %>% head(2)"
   ]
  },
  {
   "cell_type": "code",
   "execution_count": 3,
   "metadata": {},
   "outputs": [
    {
     "data": {
      "text/html": [
       "<table>\n",
       "<caption>A tibble: 3 × 8</caption>\n",
       "<thead>\n",
       "\t<tr><th scope=col>study</th><th scope=col>population</th><th scope=col>author</th><th scope=col>date</th><th scope=col>platform</th><th scope=col>probed_snps</th><th scope=col>n_snp_reported</th><th scope=col>n_snp_significant</th></tr>\n",
       "\t<tr><th scope=col>&lt;chr&gt;</th><th scope=col>&lt;chr&gt;</th><th scope=col>&lt;chr&gt;</th><th scope=col>&lt;date&gt;</th><th scope=col>&lt;chr&gt;</th><th scope=col>&lt;int&gt;</th><th scope=col>&lt;int&gt;</th><th scope=col>&lt;int&gt;</th></tr>\n",
       "</thead>\n",
       "<tbody>\n",
       "\t<tr><td>GCST008114</td><td>African </td><td>Chen J   </td><td>2019-05-02</td><td>Affymetrix, Illumina [12148595] (imputed)     </td><td>12148595</td><td> 40</td><td>  2</td></tr>\n",
       "\t<tr><td>GCST005047</td><td>European</td><td>Morris AP</td><td>2012-09-01</td><td>Affymetrix, Illumina [up to 2500000] (imputed)</td><td> 2500000</td><td> 64</td><td> 73</td></tr>\n",
       "\t<tr><td>GCST007847</td><td>Japanese</td><td>Suzuki K </td><td>2019-02-04</td><td>Illumina [12557761] (imputed)                 </td><td>12557761</td><td>126</td><td>103</td></tr>\n",
       "</tbody>\n",
       "</table>\n"
      ],
      "text/latex": [
       "A tibble: 3 × 8\n",
       "\\begin{tabular}{r|llllllll}\n",
       " study & population & author & date & platform & probed\\_snps & n\\_snp\\_reported & n\\_snp\\_significant\\\\\n",
       " <chr> & <chr> & <chr> & <date> & <chr> & <int> & <int> & <int>\\\\\n",
       "\\hline\n",
       "\t GCST008114 & African  & Chen J    & 2019-05-02 & Affymetrix, Illumina {[}12148595{]} (imputed)      & 12148595 &  40 &   2\\\\\n",
       "\t GCST005047 & European & Morris AP & 2012-09-01 & Affymetrix, Illumina {[}up to 2500000{]} (imputed) &  2500000 &  64 &  73\\\\\n",
       "\t GCST007847 & Japanese & Suzuki K  & 2019-02-04 & Illumina {[}12557761{]} (imputed)                  & 12557761 & 126 & 103\\\\\n",
       "\\end{tabular}\n"
      ],
      "text/markdown": [
       "\n",
       "A tibble: 3 × 8\n",
       "\n",
       "| study &lt;chr&gt; | population &lt;chr&gt; | author &lt;chr&gt; | date &lt;date&gt; | platform &lt;chr&gt; | probed_snps &lt;int&gt; | n_snp_reported &lt;int&gt; | n_snp_significant &lt;int&gt; |\n",
       "|---|---|---|---|---|---|---|---|\n",
       "| GCST008114 | African  | Chen J    | 2019-05-02 | Affymetrix, Illumina [12148595] (imputed)      | 12148595 |  40 |   2 |\n",
       "| GCST005047 | European | Morris AP | 2012-09-01 | Affymetrix, Illumina [up to 2500000] (imputed) |  2500000 |  64 |  73 |\n",
       "| GCST007847 | Japanese | Suzuki K  | 2019-02-04 | Illumina [12557761] (imputed)                  | 12557761 | 126 | 103 |\n",
       "\n"
      ],
      "text/plain": [
       "  study      population author    date      \n",
       "1 GCST008114 African    Chen J    2019-05-02\n",
       "2 GCST005047 European   Morris AP 2012-09-01\n",
       "3 GCST007847 Japanese   Suzuki K  2019-02-04\n",
       "  platform                                       probed_snps n_snp_reported\n",
       "1 Affymetrix, Illumina [12148595] (imputed)      12148595     40           \n",
       "2 Affymetrix, Illumina [up to 2500000] (imputed)  2500000     64           \n",
       "3 Illumina [12557761] (imputed)                  12557761    126           \n",
       "  n_snp_significant\n",
       "1   2              \n",
       "2  73              \n",
       "3 103              "
      ]
     },
     "metadata": {},
     "output_type": "display_data"
    }
   ],
   "source": [
    "gwas_df %>%\n",
    "    select(study = 'STUDY ACCESSION', author = 'FIRST AUTHOR', date = DATE, \n",
    "           platform = 'PLATFORM [SNPS PASSING QC]', snp = SNP_ID_CURRENT, \n",
    "           p_value = 'P-VALUE', p_value_text = 'P-VALUE (TEXT)') %>%\n",
    "    mutate(\n",
    "        population = study %>% recode(\n",
    "            'GCST008114' = 'African',\n",
    "            'GCST005047' = 'European',\n",
    "            'GCST007847' = 'Japanese'\n",
    "        ),\n",
    "        probed_snps = platform %>% str_extract('[0-9]+') %>% as.integer\n",
    "    ) %>%\n",
    "    group_by(study, population, author, date, platform, probed_snps) %>%\n",
    "    summarize(\n",
    "        n_snp_reported = n_distinct(snp),\n",
    "        n_snp_significant = sum(p_value < 5e-8)\n",
    "    ) %>%\n",
    "    ungroup() %>%\n",
    "    arrange(population)"
   ]
  },
  {
   "cell_type": "markdown",
   "metadata": {},
   "source": [
    "## Using SNP IDs\n",
    "\n",
    "[GWAS Catalog documentation](https://www.ebi.ac.uk/gwas/docs/fileheaders) says:\n",
    "\n",
    ">SNP_ID_CURRENT*: current rs number"
   ]
  },
  {
   "cell_type": "code",
   "execution_count": 4,
   "metadata": {},
   "outputs": [
    {
     "data": {
      "text/html": [
       "<table>\n",
       "<caption>A tibble: 2 × 4</caption>\n",
       "<thead>\n",
       "\t<tr><th scope=col>study</th><th scope=col>SNP_ID_CURRENT</th><th scope=col>p_value</th><th scope=col>p_value_desc</th></tr>\n",
       "\t<tr><th scope=col>&lt;chr&gt;</th><th scope=col>&lt;dbl&gt;</th><th scope=col>&lt;dbl&gt;</th><th scope=col>&lt;chr&gt;</th></tr>\n",
       "</thead>\n",
       "<tbody>\n",
       "\t<tr><td>GCST005047</td><td>  5215</td><td>9e-10</td><td>NA</td></tr>\n",
       "\t<tr><td>GCST007847</td><td>123378</td><td>5e-09</td><td>NA</td></tr>\n",
       "</tbody>\n",
       "</table>\n"
      ],
      "text/latex": [
       "A tibble: 2 × 4\n",
       "\\begin{tabular}{r|llll}\n",
       " study & SNP\\_ID\\_CURRENT & p\\_value & p\\_value\\_desc\\\\\n",
       " <chr> & <dbl> & <dbl> & <chr>\\\\\n",
       "\\hline\n",
       "\t GCST005047 &   5215 & 9e-10 & NA\\\\\n",
       "\t GCST007847 & 123378 & 5e-09 & NA\\\\\n",
       "\\end{tabular}\n"
      ],
      "text/markdown": [
       "\n",
       "A tibble: 2 × 4\n",
       "\n",
       "| study &lt;chr&gt; | SNP_ID_CURRENT &lt;dbl&gt; | p_value &lt;dbl&gt; | p_value_desc &lt;chr&gt; |\n",
       "|---|---|---|---|\n",
       "| GCST005047 |   5215 | 9e-10 | NA |\n",
       "| GCST007847 | 123378 | 5e-09 | NA |\n",
       "\n"
      ],
      "text/plain": [
       "  study      SNP_ID_CURRENT p_value p_value_desc\n",
       "1 GCST005047   5215         9e-10   NA          \n",
       "2 GCST007847 123378         5e-09   NA          "
      ]
     },
     "metadata": {},
     "output_type": "display_data"
    }
   ],
   "source": [
    "snp_df <- gwas_df %>% \n",
    "    drop_na(SNP_ID_CURRENT) %>%\n",
    "    select(study = 'STUDY ACCESSION', SNP_ID_CURRENT, p_value = 'P-VALUE', \n",
    "           p_value_desc = 'P-VALUE (TEXT)') %>%\n",
    "    # Filter out those loci which are conditional on gender\n",
    "    filter(is.na(p_value_desc) | !str_detect(p_value_desc, 'men|female')) %>%\n",
    "    group_by(study, SNP_ID_CURRENT) %>%\n",
    "    filter(p_value == min(p_value)) %>%\n",
    "    ungroup %>%\n",
    "    # Apply (somewhat arbitrarily) the conventional threshold for genome-wide significance\n",
    "    filter(p_value < 5 * 10^-8) %>%\n",
    "    arrange(SNP_ID_CURRENT)\n",
    "\n",
    "snp_df %>% head(2)"
   ]
  },
  {
   "cell_type": "code",
   "execution_count": 5,
   "metadata": {},
   "outputs": [
    {
     "name": "stdout",
     "output_type": "stream",
     "text": [
      "[1] 0\n"
     ]
    },
    {
     "data": {
      "text/html": [
       "<table>\n",
       "<caption>A matrix: 3 × 3 of type dbl</caption>\n",
       "<thead>\n",
       "\t<tr><th></th><th scope=col>GCST005047</th><th scope=col>GCST007847</th><th scope=col>GCST008114</th></tr>\n",
       "</thead>\n",
       "<tbody>\n",
       "\t<tr><th scope=row>GCST005047</th><td>39</td><td>  3</td><td>1</td></tr>\n",
       "\t<tr><th scope=row>GCST007847</th><td> 3</td><td>103</td><td>0</td></tr>\n",
       "\t<tr><th scope=row>GCST008114</th><td> 1</td><td>  0</td><td>2</td></tr>\n",
       "</tbody>\n",
       "</table>\n"
      ],
      "text/latex": [
       "A matrix: 3 × 3 of type dbl\n",
       "\\begin{tabular}{r|lll}\n",
       "  & GCST005047 & GCST007847 & GCST008114\\\\\n",
       "\\hline\n",
       "\tGCST005047 & 39 &   3 & 1\\\\\n",
       "\tGCST007847 &  3 & 103 & 0\\\\\n",
       "\tGCST008114 &  1 &   0 & 2\\\\\n",
       "\\end{tabular}\n"
      ],
      "text/markdown": [
       "\n",
       "A matrix: 3 × 3 of type dbl\n",
       "\n",
       "| <!--/--> | GCST005047 | GCST007847 | GCST008114 |\n",
       "|---|---|---|---|\n",
       "| GCST005047 | 39 |   3 | 1 |\n",
       "| GCST007847 |  3 | 103 | 0 |\n",
       "| GCST008114 |  1 |   0 | 2 |\n",
       "\n"
      ],
      "text/plain": [
       "            study\n",
       "study        GCST005047 GCST007847 GCST008114\n",
       "  GCST005047 39           3        1         \n",
       "  GCST007847  3         103        0         \n",
       "  GCST008114  1           0        2         "
      ]
     },
     "metadata": {},
     "output_type": "display_data"
    }
   ],
   "source": [
    "# No overlap between all three\n",
    "snp_df %>%\n",
    "    pivot_wider(id_cols = SNP_ID_CURRENT, names_from = study, values_from = p_value) %>%\n",
    "    drop_na(GCST008114, GCST005047, GCST007847) %>%\n",
    "    nrow %>%\n",
    "    print\n",
    "\n",
    "# Pairwise overlaps\n",
    "snp_df %>%\n",
    "    drop_na(p_value) %>%\n",
    "    select(SNP_ID_CURRENT, study) %>%\n",
    "    table %>%\n",
    "    crossprod"
   ]
  },
  {
   "cell_type": "markdown",
   "metadata": {},
   "source": [
    "## Using chromosome position\n",
    "\n",
    "[GWAS Catalog documentation](https://www.ebi.ac.uk/gwas/docs/faq) states:\n",
    "\n",
    ">We use an Ensembl mapping pipeline that provides the genomic annotation (chromosome location, cytogenetic region and mapped genes), alongside the curated content in the GWAS Catalog. The mapping information is updated at every Ensembl release, every 2-3 months.\n",
    "\n",
    ">Data in the GWAS Catalog is currently mapped to genome assembly GRCh38.p13 and dbSNP Build 152."
   ]
  },
  {
   "cell_type": "code",
   "execution_count": 6,
   "metadata": {},
   "outputs": [
    {
     "name": "stderr",
     "output_type": "stream",
     "text": [
      "Warning message in replace_with(out, !condition, false, fmt_args(~false), glue(\"length of {fmt_args(~condition)}\")):\n",
      "“NAs introduced by coercion”"
     ]
    },
    {
     "data": {
      "text/html": [
       "<table>\n",
       "<caption>A tibble: 2 × 5</caption>\n",
       "<thead>\n",
       "\t<tr><th scope=col>study</th><th scope=col>CHR_ID</th><th scope=col>CHR_POS</th><th scope=col>p_value</th><th scope=col>p_value_desc</th></tr>\n",
       "\t<tr><th scope=col>&lt;chr&gt;</th><th scope=col>&lt;chr&gt;</th><th scope=col>&lt;int&gt;</th><th scope=col>&lt;dbl&gt;</th><th scope=col>&lt;chr&gt;</th></tr>\n",
       "</thead>\n",
       "<tbody>\n",
       "\t<tr><td>GCST007847</td><td>1</td><td>21741833</td><td>2e-09</td><td>NA</td></tr>\n",
       "\t<tr><td>GCST007847</td><td>1</td><td>50637596</td><td>3e-11</td><td>NA</td></tr>\n",
       "</tbody>\n",
       "</table>\n"
      ],
      "text/latex": [
       "A tibble: 2 × 5\n",
       "\\begin{tabular}{r|lllll}\n",
       " study & CHR\\_ID & CHR\\_POS & p\\_value & p\\_value\\_desc\\\\\n",
       " <chr> & <chr> & <int> & <dbl> & <chr>\\\\\n",
       "\\hline\n",
       "\t GCST007847 & 1 & 21741833 & 2e-09 & NA\\\\\n",
       "\t GCST007847 & 1 & 50637596 & 3e-11 & NA\\\\\n",
       "\\end{tabular}\n"
      ],
      "text/markdown": [
       "\n",
       "A tibble: 2 × 5\n",
       "\n",
       "| study &lt;chr&gt; | CHR_ID &lt;chr&gt; | CHR_POS &lt;int&gt; | p_value &lt;dbl&gt; | p_value_desc &lt;chr&gt; |\n",
       "|---|---|---|---|---|\n",
       "| GCST007847 | 1 | 21741833 | 2e-09 | NA |\n",
       "| GCST007847 | 1 | 50637596 | 3e-11 | NA |\n",
       "\n"
      ],
      "text/plain": [
       "  study      CHR_ID CHR_POS  p_value p_value_desc\n",
       "1 GCST007847 1      21741833 2e-09   NA          \n",
       "2 GCST007847 1      50637596 3e-11   NA          "
      ]
     },
     "metadata": {},
     "output_type": "display_data"
    }
   ],
   "source": [
    "id_pos_df <- gwas_df %>%\n",
    "    # Fix dtype errors in the table\n",
    "    mutate(\n",
    "        CHR_ID = if_else(str_detect(string = CHR_ID, pattern = 'X|Y'), true = CHR_ID, \n",
    "                         false = as.character(as.integer(CHR_ID))),\n",
    "        CHR_POS = as.integer(CHR_POS)\n",
    "    ) %>% \n",
    "    # Drop loci that don't have a defined position\n",
    "    drop_na(CHR_ID, CHR_POS) %>%\n",
    "    select(study = 'STUDY ACCESSION', CHR_ID, CHR_POS, p_value = 'P-VALUE', \n",
    "           p_value_desc = 'P-VALUE (TEXT)') %>%\n",
    "    # Filter out those loci which are conditional on gender\n",
    "    filter(is.na(p_value_desc) | !str_detect(p_value_desc, 'men|female')) %>%\n",
    "    # Apply (somewhat arbitrarily) the conventional threshold for genome-wide significance\n",
    "    filter(p_value < 5 * 10^-8) %>%\n",
    "    arrange(CHR_ID, CHR_POS)\n",
    "\n",
    "id_pos_df %>% head(2)"
   ]
  },
  {
   "cell_type": "code",
   "execution_count": 7,
   "metadata": {},
   "outputs": [
    {
     "name": "stdout",
     "output_type": "stream",
     "text": [
      "[1] 0\n"
     ]
    },
    {
     "data": {
      "text/html": [
       "<table>\n",
       "<caption>A matrix: 3 × 3 of type dbl</caption>\n",
       "<thead>\n",
       "\t<tr><th></th><th scope=col>GCST005047</th><th scope=col>GCST007847</th><th scope=col>GCST008114</th></tr>\n",
       "</thead>\n",
       "<tbody>\n",
       "\t<tr><th scope=row>GCST005047</th><td>39</td><td>  3</td><td>1</td></tr>\n",
       "\t<tr><th scope=row>GCST007847</th><td> 3</td><td>103</td><td>0</td></tr>\n",
       "\t<tr><th scope=row>GCST008114</th><td> 1</td><td>  0</td><td>2</td></tr>\n",
       "</tbody>\n",
       "</table>\n"
      ],
      "text/latex": [
       "A matrix: 3 × 3 of type dbl\n",
       "\\begin{tabular}{r|lll}\n",
       "  & GCST005047 & GCST007847 & GCST008114\\\\\n",
       "\\hline\n",
       "\tGCST005047 & 39 &   3 & 1\\\\\n",
       "\tGCST007847 &  3 & 103 & 0\\\\\n",
       "\tGCST008114 &  1 &   0 & 2\\\\\n",
       "\\end{tabular}\n"
      ],
      "text/markdown": [
       "\n",
       "A matrix: 3 × 3 of type dbl\n",
       "\n",
       "| <!--/--> | GCST005047 | GCST007847 | GCST008114 |\n",
       "|---|---|---|---|\n",
       "| GCST005047 | 39 |   3 | 1 |\n",
       "| GCST007847 |  3 | 103 | 0 |\n",
       "| GCST008114 |  1 |   0 | 2 |\n",
       "\n"
      ],
      "text/plain": [
       "            study\n",
       "study        GCST005047 GCST007847 GCST008114\n",
       "  GCST005047 39           3        1         \n",
       "  GCST007847  3         103        0         \n",
       "  GCST008114  1           0        2         "
      ]
     },
     "metadata": {},
     "output_type": "display_data"
    }
   ],
   "source": [
    "# No overlap between all three\n",
    "id_pos_df %>%\n",
    "    pivot_wider(id_cols = c(CHR_ID, CHR_POS), names_from = study, \n",
    "                values_from = p_value) %>%\n",
    "    drop_na(GCST008114, GCST005047, GCST007847) %>%\n",
    "    nrow %>%\n",
    "    print\n",
    "\n",
    "# Pairwise overlaps\n",
    "id_pos_df %>%\n",
    "    unite('position', c(CHR_ID, CHR_POS)) %>%\n",
    "    select(position, study) %>%\n",
    "    table %>%\n",
    "    crossprod"
   ]
  },
  {
   "cell_type": "markdown",
   "metadata": {},
   "source": [
    "## Using cytogenetic region\n",
    "\n",
    "[GWAS Catalog documentation](https://www.ebi.ac.uk/gwas/docs/fileheaders) says:\n",
    "\n",
    ">REGION*: Cytogenetic region associated with rs number"
   ]
  },
  {
   "cell_type": "code",
   "execution_count": 8,
   "metadata": {
    "scrolled": true
   },
   "outputs": [
    {
     "data": {
      "text/html": [
       "<table>\n",
       "<caption>A tibble: 2 × 4</caption>\n",
       "<thead>\n",
       "\t<tr><th scope=col>study</th><th scope=col>REGION</th><th scope=col>p_value</th><th scope=col>p_value_desc</th></tr>\n",
       "\t<tr><th scope=col>&lt;chr&gt;</th><th scope=col>&lt;chr&gt;</th><th scope=col>&lt;dbl&gt;</th><th scope=col>&lt;chr&gt;</th></tr>\n",
       "</thead>\n",
       "<tbody>\n",
       "\t<tr><td>GCST007847</td><td>10p13  </td><td>8e-27</td><td>NA</td></tr>\n",
       "\t<tr><td>GCST007847</td><td>10q22.1</td><td>3e-09</td><td>NA</td></tr>\n",
       "</tbody>\n",
       "</table>\n"
      ],
      "text/latex": [
       "A tibble: 2 × 4\n",
       "\\begin{tabular}{r|llll}\n",
       " study & REGION & p\\_value & p\\_value\\_desc\\\\\n",
       " <chr> & <chr> & <dbl> & <chr>\\\\\n",
       "\\hline\n",
       "\t GCST007847 & 10p13   & 8e-27 & NA\\\\\n",
       "\t GCST007847 & 10q22.1 & 3e-09 & NA\\\\\n",
       "\\end{tabular}\n"
      ],
      "text/markdown": [
       "\n",
       "A tibble: 2 × 4\n",
       "\n",
       "| study &lt;chr&gt; | REGION &lt;chr&gt; | p_value &lt;dbl&gt; | p_value_desc &lt;chr&gt; |\n",
       "|---|---|---|---|\n",
       "| GCST007847 | 10p13   | 8e-27 | NA |\n",
       "| GCST007847 | 10q22.1 | 3e-09 | NA |\n",
       "\n"
      ],
      "text/plain": [
       "  study      REGION  p_value p_value_desc\n",
       "1 GCST007847 10p13   8e-27   NA          \n",
       "2 GCST007847 10q22.1 3e-09   NA          "
      ]
     },
     "metadata": {},
     "output_type": "display_data"
    }
   ],
   "source": [
    "cyto_df <- gwas_df %>% \n",
    "    drop_na(REGION) %>%\n",
    "    select(study = 'STUDY ACCESSION', REGION, p_value = 'P-VALUE', \n",
    "           p_value_desc = 'P-VALUE (TEXT)') %>%\n",
    "    # Filter out those loci which are conditional on gender\n",
    "    filter(is.na(p_value_desc) | !str_detect(p_value_desc, 'men|female')) %>%\n",
    "    group_by(study, REGION) %>%\n",
    "    filter(p_value == min(p_value)) %>%\n",
    "    ungroup %>%\n",
    "    # Apply (somewhat arbitrarily) the conventional threshold for genome-wide significance\n",
    "    filter(p_value < 5 * 10^-8) %>%\n",
    "    arrange(REGION)\n",
    "\n",
    "cyto_df %>% head(2)"
   ]
  },
  {
   "cell_type": "code",
   "execution_count": 9,
   "metadata": {},
   "outputs": [
    {
     "name": "stdout",
     "output_type": "stream",
     "text": [
      "[1] 2\n"
     ]
    },
    {
     "data": {
      "text/html": [
       "<table>\n",
       "<caption>A matrix: 3 × 3 of type dbl</caption>\n",
       "<thead>\n",
       "\t<tr><th></th><th scope=col>GCST005047</th><th scope=col>GCST007847</th><th scope=col>GCST008114</th></tr>\n",
       "</thead>\n",
       "<tbody>\n",
       "\t<tr><th scope=row>GCST005047</th><td>39</td><td>28</td><td>2</td></tr>\n",
       "\t<tr><th scope=row>GCST007847</th><td>28</td><td>86</td><td>2</td></tr>\n",
       "\t<tr><th scope=row>GCST008114</th><td> 2</td><td> 2</td><td>2</td></tr>\n",
       "</tbody>\n",
       "</table>\n"
      ],
      "text/latex": [
       "A matrix: 3 × 3 of type dbl\n",
       "\\begin{tabular}{r|lll}\n",
       "  & GCST005047 & GCST007847 & GCST008114\\\\\n",
       "\\hline\n",
       "\tGCST005047 & 39 & 28 & 2\\\\\n",
       "\tGCST007847 & 28 & 86 & 2\\\\\n",
       "\tGCST008114 &  2 &  2 & 2\\\\\n",
       "\\end{tabular}\n"
      ],
      "text/markdown": [
       "\n",
       "A matrix: 3 × 3 of type dbl\n",
       "\n",
       "| <!--/--> | GCST005047 | GCST007847 | GCST008114 |\n",
       "|---|---|---|---|\n",
       "| GCST005047 | 39 | 28 | 2 |\n",
       "| GCST007847 | 28 | 86 | 2 |\n",
       "| GCST008114 |  2 |  2 | 2 |\n",
       "\n"
      ],
      "text/plain": [
       "            study\n",
       "study        GCST005047 GCST007847 GCST008114\n",
       "  GCST005047 39         28         2         \n",
       "  GCST007847 28         86         2         \n",
       "  GCST008114  2          2         2         "
      ]
     },
     "metadata": {},
     "output_type": "display_data"
    }
   ],
   "source": [
    "# Overlap between all three\n",
    "cyto_df %>%\n",
    "    pivot_wider(id_cols = REGION, names_from = study, values_from = p_value) %>%\n",
    "    drop_na(GCST008114, GCST005047, GCST007847) %>%\n",
    "    nrow %>%\n",
    "    print\n",
    "\n",
    "# Pairwise overlaps\n",
    "cyto_df %>%\n",
    "    drop_na(p_value) %>%\n",
    "    select(REGION, study) %>%\n",
    "    table %>%\n",
    "    crossprod"
   ]
  },
  {
   "cell_type": "markdown",
   "metadata": {},
   "source": [
    "## Using mapped gene"
   ]
  },
  {
   "cell_type": "code",
   "execution_count": 10,
   "metadata": {
    "scrolled": true
   },
   "outputs": [
    {
     "data": {
      "text/html": [
       "<table>\n",
       "<caption>A tibble: 2 × 4</caption>\n",
       "<thead>\n",
       "\t<tr><th scope=col>study</th><th scope=col>MAPPED_GENE</th><th scope=col>p_value</th><th scope=col>p_value_desc</th></tr>\n",
       "\t<tr><th scope=col>&lt;chr&gt;</th><th scope=col>&lt;chr&gt;</th><th scope=col>&lt;dbl&gt;</th><th scope=col>&lt;chr&gt;</th></tr>\n",
       "</thead>\n",
       "<tbody>\n",
       "\t<tr><td>GCST007847</td><td>AC005019.2</td><td>3e-09</td><td>NA</td></tr>\n",
       "\t<tr><td>GCST007847</td><td>AC006458.1</td><td>8e-11</td><td>NA</td></tr>\n",
       "</tbody>\n",
       "</table>\n"
      ],
      "text/latex": [
       "A tibble: 2 × 4\n",
       "\\begin{tabular}{r|llll}\n",
       " study & MAPPED\\_GENE & p\\_value & p\\_value\\_desc\\\\\n",
       " <chr> & <chr> & <dbl> & <chr>\\\\\n",
       "\\hline\n",
       "\t GCST007847 & AC005019.2 & 3e-09 & NA\\\\\n",
       "\t GCST007847 & AC006458.1 & 8e-11 & NA\\\\\n",
       "\\end{tabular}\n"
      ],
      "text/markdown": [
       "\n",
       "A tibble: 2 × 4\n",
       "\n",
       "| study &lt;chr&gt; | MAPPED_GENE &lt;chr&gt; | p_value &lt;dbl&gt; | p_value_desc &lt;chr&gt; |\n",
       "|---|---|---|---|\n",
       "| GCST007847 | AC005019.2 | 3e-09 | NA |\n",
       "| GCST007847 | AC006458.1 | 8e-11 | NA |\n",
       "\n"
      ],
      "text/plain": [
       "  study      MAPPED_GENE p_value p_value_desc\n",
       "1 GCST007847 AC005019.2  3e-09   NA          \n",
       "2 GCST007847 AC006458.1  8e-11   NA          "
      ]
     },
     "metadata": {},
     "output_type": "display_data"
    }
   ],
   "source": [
    "gene_df <- gwas_df %>% \n",
    "    drop_na(MAPPED_GENE) %>%\n",
    "    select(study = 'STUDY ACCESSION', MAPPED_GENE, p_value = 'P-VALUE', \n",
    "           p_value_desc = 'P-VALUE (TEXT)') %>%\n",
    "    # Intergenic separated by ' - ', multiple mappings separated by ', '\n",
    "    separate_rows(MAPPED_GENE, sep = ' - |, ') %>%\n",
    "    # Filter out those loci which are conditional on gender\n",
    "    filter(is.na(p_value_desc) | !str_detect(p_value_desc, 'men|female')) %>%\n",
    "    # Select only lowest p_value for each study-gene pair. (Duplicate p-values exist, so take first)\n",
    "    group_by(study, MAPPED_GENE) %>%\n",
    "    filter(p_value == min(p_value)) %>%\n",
    "    filter(row_number() == 1) %>%\n",
    "    ungroup %>%\n",
    "    # Apply (somewhat arbitrarily) the conventional threshold for genome-wide significance\n",
    "    filter(p_value < 5 * 10^-8) %>%\n",
    "    arrange(MAPPED_GENE)\n",
    "\n",
    "gene_df %>% head(2)"
   ]
  },
  {
   "cell_type": "code",
   "execution_count": 11,
   "metadata": {},
   "outputs": [
    {
     "name": "stdout",
     "output_type": "stream",
     "text": [
      "[1] 1\n"
     ]
    },
    {
     "data": {
      "text/html": [
       "<table>\n",
       "<caption>A matrix: 3 × 3 of type dbl</caption>\n",
       "<thead>\n",
       "\t<tr><th></th><th scope=col>GCST005047</th><th scope=col>GCST007847</th><th scope=col>GCST008114</th></tr>\n",
       "</thead>\n",
       "<tbody>\n",
       "\t<tr><th scope=row>GCST005047</th><td>52</td><td> 27</td><td>1</td></tr>\n",
       "\t<tr><th scope=row>GCST007847</th><td>27</td><td>138</td><td>1</td></tr>\n",
       "\t<tr><th scope=row>GCST008114</th><td> 1</td><td>  1</td><td>2</td></tr>\n",
       "</tbody>\n",
       "</table>\n"
      ],
      "text/latex": [
       "A matrix: 3 × 3 of type dbl\n",
       "\\begin{tabular}{r|lll}\n",
       "  & GCST005047 & GCST007847 & GCST008114\\\\\n",
       "\\hline\n",
       "\tGCST005047 & 52 &  27 & 1\\\\\n",
       "\tGCST007847 & 27 & 138 & 1\\\\\n",
       "\tGCST008114 &  1 &   1 & 2\\\\\n",
       "\\end{tabular}\n"
      ],
      "text/markdown": [
       "\n",
       "A matrix: 3 × 3 of type dbl\n",
       "\n",
       "| <!--/--> | GCST005047 | GCST007847 | GCST008114 |\n",
       "|---|---|---|---|\n",
       "| GCST005047 | 52 |  27 | 1 |\n",
       "| GCST007847 | 27 | 138 | 1 |\n",
       "| GCST008114 |  1 |   1 | 2 |\n",
       "\n"
      ],
      "text/plain": [
       "            study\n",
       "study        GCST005047 GCST007847 GCST008114\n",
       "  GCST005047 52          27        1         \n",
       "  GCST007847 27         138        1         \n",
       "  GCST008114  1           1        2         "
      ]
     },
     "metadata": {},
     "output_type": "display_data"
    }
   ],
   "source": [
    "# Overlap between all three\n",
    "gene_df %>%\n",
    "    pivot_wider(id_cols = MAPPED_GENE, names_from = study, values_from = p_value) %>%\n",
    "    drop_na(GCST008114, GCST005047, GCST007847) %>%\n",
    "    nrow %>%\n",
    "    print\n",
    "\n",
    "# Pairwise overlaps\n",
    "gene_df %>%\n",
    "    drop_na(p_value) %>%\n",
    "    select(MAPPED_GENE, study) %>%\n",
    "    table %>%\n",
    "    crossprod"
   ]
  },
  {
   "cell_type": "markdown",
   "metadata": {},
   "source": [
    "## Using author-reported genes"
   ]
  },
  {
   "cell_type": "code",
   "execution_count": 12,
   "metadata": {
    "scrolled": true
   },
   "outputs": [
    {
     "data": {
      "text/html": [
       "<table>\n",
       "<caption>A tibble: 2 × 4</caption>\n",
       "<thead>\n",
       "\t<tr><th scope=col>study</th><th scope=col>gene</th><th scope=col>p_value</th><th scope=col>p_value_desc</th></tr>\n",
       "\t<tr><th scope=col>&lt;chr&gt;</th><th scope=col>&lt;chr&gt;</th><th scope=col>&lt;dbl&gt;</th><th scope=col>&lt;chr&gt;</th></tr>\n",
       "</thead>\n",
       "<tbody>\n",
       "\t<tr><td>GCST007847</td><td> A13  </td><td>6e-16</td><td>NA</td></tr>\n",
       "\t<tr><td>GCST007847</td><td> ARAP1</td><td>1e-11</td><td>NA</td></tr>\n",
       "</tbody>\n",
       "</table>\n"
      ],
      "text/latex": [
       "A tibble: 2 × 4\n",
       "\\begin{tabular}{r|llll}\n",
       " study & gene & p\\_value & p\\_value\\_desc\\\\\n",
       " <chr> & <chr> & <dbl> & <chr>\\\\\n",
       "\\hline\n",
       "\t GCST007847 &  A13   & 6e-16 & NA\\\\\n",
       "\t GCST007847 &  ARAP1 & 1e-11 & NA\\\\\n",
       "\\end{tabular}\n"
      ],
      "text/markdown": [
       "\n",
       "A tibble: 2 × 4\n",
       "\n",
       "| study &lt;chr&gt; | gene &lt;chr&gt; | p_value &lt;dbl&gt; | p_value_desc &lt;chr&gt; |\n",
       "|---|---|---|---|\n",
       "| GCST007847 |  A13   | 6e-16 | NA |\n",
       "| GCST007847 |  ARAP1 | 1e-11 | NA |\n",
       "\n"
      ],
      "text/plain": [
       "  study      gene   p_value p_value_desc\n",
       "1 GCST007847  A13   6e-16   NA          \n",
       "2 GCST007847  ARAP1 1e-11   NA          "
      ]
     },
     "metadata": {},
     "output_type": "display_data"
    }
   ],
   "source": [
    "rep_gene_df <- gwas_df %>% \n",
    "    select(study = 'STUDY ACCESSION', gene = 'REPORTED GENE(S)', p_value = 'P-VALUE', \n",
    "           p_value_desc = 'P-VALUE (TEXT)') %>%\n",
    "    drop_na(gene) %>%\n",
    "    # Intergenic separated by ' - ', multiple mappings separated by ', '\n",
    "    separate_rows(gene, sep = ',') %>%\n",
    "    # Filter out those loci which are conditional on gender\n",
    "    filter(is.na(p_value_desc) | !str_detect(p_value_desc, 'men|female')) %>%\n",
    "    # Select only lowest p_value for each study-gene pair. (Duplicate p-values exist, so take first)\n",
    "    group_by(study, gene) %>%\n",
    "    filter(p_value == min(p_value)) %>%\n",
    "    filter(row_number() == 1) %>%\n",
    "    ungroup %>%\n",
    "    # Apply (somewhat arbitrarily) the conventional threshold for genome-wide significance\n",
    "    filter(p_value < 5 * 10^-8) %>%\n",
    "    arrange(gene)\n",
    "\n",
    "rep_gene_df %>% head(2)"
   ]
  },
  {
   "cell_type": "code",
   "execution_count": 13,
   "metadata": {},
   "outputs": [
    {
     "name": "stdout",
     "output_type": "stream",
     "text": [
      "[1] 1\n"
     ]
    },
    {
     "data": {
      "text/html": [
       "<table>\n",
       "<caption>A matrix: 3 × 3 of type dbl</caption>\n",
       "<thead>\n",
       "\t<tr><th></th><th scope=col>GCST005047</th><th scope=col>GCST007847</th><th scope=col>GCST008114</th></tr>\n",
       "</thead>\n",
       "<tbody>\n",
       "\t<tr><th scope=row>GCST005047</th><td>40</td><td> 23</td><td>1</td></tr>\n",
       "\t<tr><th scope=row>GCST007847</th><td>23</td><td>117</td><td>1</td></tr>\n",
       "\t<tr><th scope=row>GCST008114</th><td> 1</td><td>  1</td><td>2</td></tr>\n",
       "</tbody>\n",
       "</table>\n"
      ],
      "text/latex": [
       "A matrix: 3 × 3 of type dbl\n",
       "\\begin{tabular}{r|lll}\n",
       "  & GCST005047 & GCST007847 & GCST008114\\\\\n",
       "\\hline\n",
       "\tGCST005047 & 40 &  23 & 1\\\\\n",
       "\tGCST007847 & 23 & 117 & 1\\\\\n",
       "\tGCST008114 &  1 &   1 & 2\\\\\n",
       "\\end{tabular}\n"
      ],
      "text/markdown": [
       "\n",
       "A matrix: 3 × 3 of type dbl\n",
       "\n",
       "| <!--/--> | GCST005047 | GCST007847 | GCST008114 |\n",
       "|---|---|---|---|\n",
       "| GCST005047 | 40 |  23 | 1 |\n",
       "| GCST007847 | 23 | 117 | 1 |\n",
       "| GCST008114 |  1 |   1 | 2 |\n",
       "\n"
      ],
      "text/plain": [
       "            study\n",
       "study        GCST005047 GCST007847 GCST008114\n",
       "  GCST005047 40          23        1         \n",
       "  GCST007847 23         117        1         \n",
       "  GCST008114  1           1        2         "
      ]
     },
     "metadata": {},
     "output_type": "display_data"
    }
   ],
   "source": [
    "# Overlap between all three\n",
    "rep_gene_df %>%\n",
    "    pivot_wider(id_cols = gene, names_from = study, values_from = p_value) %>%\n",
    "    drop_na(GCST008114, GCST005047, GCST007847) %>%\n",
    "    nrow %>%\n",
    "    print\n",
    "\n",
    "# Pairwise overlaps\n",
    "rep_gene_df %>%\n",
    "    drop_na(p_value) %>%\n",
    "    select(gene, study) %>%\n",
    "    table %>%\n",
    "    crossprod"
   ]
  },
  {
   "cell_type": "code",
   "execution_count": 14,
   "metadata": {
    "scrolled": true
   },
   "outputs": [
    {
     "data": {
      "text/html": [
       "<table>\n",
       "<caption>A tibble: 2 × 5</caption>\n",
       "<thead>\n",
       "\t<tr><th scope=col>study</th><th scope=col>p_value</th><th scope=col>p_value_desc</th><th scope=col>gene_type</th><th scope=col>gene</th></tr>\n",
       "\t<tr><th scope=col>&lt;chr&gt;</th><th scope=col>&lt;dbl&gt;</th><th scope=col>&lt;chr&gt;</th><th scope=col>&lt;chr&gt;</th><th scope=col>&lt;chr&gt;</th></tr>\n",
       "</thead>\n",
       "<tbody>\n",
       "\t<tr><td>GCST008114</td><td>5e-09</td><td>NA</td><td>reported</td><td>AGMO</td></tr>\n",
       "\t<tr><td>GCST008114</td><td>5e-09</td><td>NA</td><td>mapped  </td><td>AGMO</td></tr>\n",
       "</tbody>\n",
       "</table>\n"
      ],
      "text/latex": [
       "A tibble: 2 × 5\n",
       "\\begin{tabular}{r|lllll}\n",
       " study & p\\_value & p\\_value\\_desc & gene\\_type & gene\\\\\n",
       " <chr> & <dbl> & <chr> & <chr> & <chr>\\\\\n",
       "\\hline\n",
       "\t GCST008114 & 5e-09 & NA & reported & AGMO\\\\\n",
       "\t GCST008114 & 5e-09 & NA & mapped   & AGMO\\\\\n",
       "\\end{tabular}\n"
      ],
      "text/markdown": [
       "\n",
       "A tibble: 2 × 5\n",
       "\n",
       "| study &lt;chr&gt; | p_value &lt;dbl&gt; | p_value_desc &lt;chr&gt; | gene_type &lt;chr&gt; | gene &lt;chr&gt; |\n",
       "|---|---|---|---|---|\n",
       "| GCST008114 | 5e-09 | NA | reported | AGMO |\n",
       "| GCST008114 | 5e-09 | NA | mapped   | AGMO |\n",
       "\n"
      ],
      "text/plain": [
       "  study      p_value p_value_desc gene_type gene\n",
       "1 GCST008114 5e-09   NA           reported  AGMO\n",
       "2 GCST008114 5e-09   NA           mapped    AGMO"
      ]
     },
     "metadata": {},
     "output_type": "display_data"
    }
   ],
   "source": [
    "gwas_df %>%\n",
    "    select(study = 'STUDY ACCESSION', reported = 'REPORTED GENE(S)', mapped = 'MAPPED_GENE',\n",
    "           p_value = 'P-VALUE', p_value_desc = 'P-VALUE (TEXT)') %>%\n",
    "    pivot_longer(c(reported, mapped), names_to = 'gene_type', values_to = 'gene') %>%\n",
    "    separate_rows(gene, sep = ' - |, ') %>%\n",
    "    filter(p_value < 5e-8) %>%\n",
    "    # Filter out those loci which are conditional on gender\n",
    "    filter(is.na(p_value_desc) | !str_detect(p_value_desc, 'men|female')) %>% \n",
    "    head(2)"
   ]
  },
  {
   "cell_type": "markdown",
   "metadata": {},
   "source": [
    "# Genes for enrichment analysis"
   ]
  },
  {
   "cell_type": "code",
   "execution_count": 15,
   "metadata": {
    "scrolled": true
   },
   "outputs": [
    {
     "data": {
      "text/html": [
       "<table>\n",
       "<caption>A grouped_df: 6 × 3</caption>\n",
       "<thead>\n",
       "\t<tr><th scope=col>study</th><th scope=col>gene_type</th><th scope=col>genes</th></tr>\n",
       "\t<tr><th scope=col>&lt;chr&gt;</th><th scope=col>&lt;chr&gt;</th><th scope=col>&lt;list&gt;</th></tr>\n",
       "</thead>\n",
       "<tbody>\n",
       "\t<tr><td>GCST005047</td><td>mapped  </td><td>PROX1-AS1  , WFS1       , RPL26P19   , C5orf67    , AC008581.2 , AC022414.1 , ZBED3-AS1  , CDKAL1     , DGKB       , JAZF1      , ANK1       , AC113133.1 , THADA      , AC007381.1 , COBLL1     , AC062015.1 , MIR5702    , PPARG      , UBE2E2     , ADAMTS9-AS2, ADCY5      , IGF2BP2    , AC046168.1 , AC046168.2 , AC068831.7 , VPS33B     , FTO        , CTRB2      , CTRB1      , HNF1B      , HNF1B      , SUGP1      , AC090771.1 , AC090621.1 , KCNQ1      , KCNQ1      , KCNQ1OT1   , KCNJ11     , ARAP1      , MTNR1B     , RN7SKP15   , RF02271    , RPSAP52    , AC025575.1 , AL137781.1 , SPRY2      , SLC30A8    , CDKN2B-AS1 , AL157937.1 , AL591368.1 , ZMIZ1      , HHEX       , RF00019    , TCF7L2     , KCNQ1      , KCNQ1      </td></tr>\n",
       "\t<tr><td>GCST005047</td><td>reported</td><td>PROX1   , WFS1    , ANKRD55 , ZBED3   , CDKAL1  , DGKB    , JAZF1   , ANK1    , THADA   , BCL11A  , GRB14   , IRS1    , PPARG   , UBE2E2  , ADAMTS9 , ADCY5   , IGF2BP2 , HMG20A  , PRC1    , FTO     , BCAR1   , HNF1B   , CILP2   , MC4R    , KCNQ1   , KCNJ11  , ARAP1   , MTNR1B  , KLHDC5  , HMGA2   , TSPAN8  , LGR5    , SPRY2   , SLC30A8 , CDKN2A/B, TLE1    , ZMIZ1   , HHEX    , IDE     , TCF7L2  , KCNQ1   </td></tr>\n",
       "\t<tr><td>GCST007847</td><td>mapped  </td><td>C5orf67    , KCNQ1      , KCNQ1      , CDKN2B-AS1 , AL157937.1 , CDKAL1     , PAX4       , DUSP9      , TCF7L2     , IGF2BP2    , HHEX       , RF00019    , HNF1B      , HNF1B      , SLC30A8    , FTO        , CDC123     , RN7SL198P  , CTBP1-DT   , KCNQ1OT1   , KCNQ1      , KCNQ1      , UBE2E2     , ANK1       , GPSM1      , AL137781.1 , SPRY2      , AL591368.1 , RN7SL836P  , GIPR       , AL662844.2 , HLA-C      , SINHCAF    , NPM1P47    , C2CD4B     , AC023424.2 , AC023424.1 , AUTS2      , SLC16A11   , AC120057.1 , RNF6       , PSMD6      , PSMD6-AS1  , TOMM22P3   , KL         , GCKR       , IL13RA1    , ZMIZ1      , MIR129-1   , LEP        , CCDC9B     , PHGR1      , GLP1R      , RNU4-17P   , AC090771.1 , RF00019    , RPL35AP3   , RN7SKP15   , RF02271    , MIR4686    , ASCL2      , FBXW7      , AL157937.1 , DMRTA1     , AC104063.1 , NKX6-1     , DGKB       , GP2        , BCL2       , KCNQ1      , KCNQ1      , RNA5SP230  , MYL7       , SPPL3      , GLIS3      , NEPNP      , NUS1       , UBE2E2     , HMG20A     , AC046168.1 , ARAP1      , FAF1       , ZNF257     , GTF3AP5    , AC006458.1 , AC116158.2 , RASGRP1    , PRC1       , AC068831.7 , PRC1-AS1   , AC093326.1 , TMEM18     , ZNF346     , FGFR4      , TACC3      , FGFR3      , CCHCR1     , CCHCR1     , CCHCR1     , CCHCR1     , CCHCR1     , CCHCR1     , GRB14      , KCNK17     , KCNK16     , ASCL2      , USP48      , NFATC2     , DGKD       , DGKD       , AC108467.1 , THAP12P9   , LRMDA      , AC011287.1 , AC005019.2 , TSPAN15    , TMEM256P1  , FAF1       , CPA1       , RPL19P16   , LINC01153  , RNU6-891P  , MOB1B      , HNF4A      , SPIN2A     , PPP1R11P2  , PCSK1N     , PQBP1      , DLEU1      , EPC2       , CASR       , SLC1A2     , ZZEF1      , AC112187.1 , AC112187.3 , PPARG      , ETS1       , SND1       , UBE3C      , WSCD2      , LINC01122  , PPP2R2C    , PELO       , ITGA1      , SCTR       , KSR2       , BX842242.1 , PLEKHA1    , CNKSR2     , RREB1      , SLC30A8    , MIR5094    , ARPIN-AP3S2, AP3S2      , ATP8B2     , RAMP2      </td></tr>\n",
       "\t<tr><td>GCST007847</td><td>reported</td><td>ANKRD55   , KCNQ1     , CDKN2A    , B         , CDKAL1    , GCC1      , PAX4      , DUSP9     , TCF7L2    , IGF2BP2   , HHEX      , IDE       , HNF1B     , TCF2      , SLC30A8   , FTO       , CDC123    , CAMK1D    , MAEA      , INS-IGF2  , KCNQ1     , UBE2E2    , ANK1      , GPSM1     , SPRY2     , TLE1      , GIPR      , POU5F1    , TCF19     , FAM60A    , C2CD4A    , TMEM154   , AUTS2     , SLC16A11  , A13       , RNF6      , PSMD6     , KL        , GCKR      , IL13RA1   , ZMIZ1     , MIR129-LEP, INAFM2    , KCNK16    , MC4R      , SLC35D3   , KLHDC5    , INS       , IGF2      , TMEM154   , DMRTA1    , CDKN2A    , CDKN2B    , AGPAT9    , NKX6-1    , DGKB      , GP2       , BCL2A     , INS-IGF2  , KCNQ1     , GCK       , HNF1A     , GLIS3     , NUS1      , UBE2E2    , HMG20A    , CENTD2    , ARAP1     , FAF1      , ZNF257    , DGKB      , RASGRP1   , PRC1      , TMEM18    , FGFR4     , ZNF346    , MAEA      , POU5F1    , TCF19     , GRB14     , KCNK16    , INS-IGF2  , KCNQ1     , USP48     , NFATC2    , DGKD      , GNPDA2    , C10orf11  , ZNF503    , ETV1      , ARL4A     , VPS26A    , FAF1      , KLF14     , WDR11     , FGFR2     , GRSF1     , MOB1B     , HNF4A     , SPIN2A    , FAAH2     , TIMM17B   , PCSK1N    , DLEU7     , KCNRG     , EPC2      , CASR      , CD86      , SLC1A2    , ZZEF1     , PARP8     , EMB       , PPARG     , ETS1      , GCC1      , PAX4      , MNX1      , WSCD2     , FANCL     , BCL11A    , WFS1      , ITGA1     , SCTR      , KSR2      , PLEKHA1   , CNKSR2    , SSR1      , RREB1     , SLC30A8   , AP3S2     , ATP8B2    , MLX       </td></tr>\n",
       "\t<tr><td>GCST008114</td><td>mapped  </td><td>AGMO  , TCF7L2</td></tr>\n",
       "\t<tr><td>GCST008114</td><td>reported</td><td>AGMO  , TCF7L2</td></tr>\n",
       "</tbody>\n",
       "</table>\n"
      ],
      "text/latex": [
       "A grouped_df: 6 × 3\n",
       "\\begin{tabular}{r|lll}\n",
       " study & gene\\_type & genes\\\\\n",
       " <chr> & <chr> & <list>\\\\\n",
       "\\hline\n",
       "\t GCST005047 & mapped   & PROX1-AS1  , WFS1       , RPL26P19   , C5orf67    , AC008581.2 , AC022414.1 , ZBED3-AS1  , CDKAL1     , DGKB       , JAZF1      , ANK1       , AC113133.1 , THADA      , AC007381.1 , COBLL1     , AC062015.1 , MIR5702    , PPARG      , UBE2E2     , ADAMTS9-AS2, ADCY5      , IGF2BP2    , AC046168.1 , AC046168.2 , AC068831.7 , VPS33B     , FTO        , CTRB2      , CTRB1      , HNF1B      , HNF1B      , SUGP1      , AC090771.1 , AC090621.1 , KCNQ1      , KCNQ1      , KCNQ1OT1   , KCNJ11     , ARAP1      , MTNR1B     , RN7SKP15   , RF02271    , RPSAP52    , AC025575.1 , AL137781.1 , SPRY2      , SLC30A8    , CDKN2B-AS1 , AL157937.1 , AL591368.1 , ZMIZ1      , HHEX       , RF00019    , TCF7L2     , KCNQ1      , KCNQ1      \\\\\n",
       "\t GCST005047 & reported & PROX1   , WFS1    , ANKRD55 , ZBED3   , CDKAL1  , DGKB    , JAZF1   , ANK1    , THADA   , BCL11A  , GRB14   , IRS1    , PPARG   , UBE2E2  , ADAMTS9 , ADCY5   , IGF2BP2 , HMG20A  , PRC1    , FTO     , BCAR1   , HNF1B   , CILP2   , MC4R    , KCNQ1   , KCNJ11  , ARAP1   , MTNR1B  , KLHDC5  , HMGA2   , TSPAN8  , LGR5    , SPRY2   , SLC30A8 , CDKN2A/B, TLE1    , ZMIZ1   , HHEX    , IDE     , TCF7L2  , KCNQ1   \\\\\n",
       "\t GCST007847 & mapped   & C5orf67    , KCNQ1      , KCNQ1      , CDKN2B-AS1 , AL157937.1 , CDKAL1     , PAX4       , DUSP9      , TCF7L2     , IGF2BP2    , HHEX       , RF00019    , HNF1B      , HNF1B      , SLC30A8    , FTO        , CDC123     , RN7SL198P  , CTBP1-DT   , KCNQ1OT1   , KCNQ1      , KCNQ1      , UBE2E2     , ANK1       , GPSM1      , AL137781.1 , SPRY2      , AL591368.1 , RN7SL836P  , GIPR       , AL662844.2 , HLA-C      , SINHCAF    , NPM1P47    , C2CD4B     , AC023424.2 , AC023424.1 , AUTS2      , SLC16A11   , AC120057.1 , RNF6       , PSMD6      , PSMD6-AS1  , TOMM22P3   , KL         , GCKR       , IL13RA1    , ZMIZ1      , MIR129-1   , LEP        , CCDC9B     , PHGR1      , GLP1R      , RNU4-17P   , AC090771.1 , RF00019    , RPL35AP3   , RN7SKP15   , RF02271    , MIR4686    , ASCL2      , FBXW7      , AL157937.1 , DMRTA1     , AC104063.1 , NKX6-1     , DGKB       , GP2        , BCL2       , KCNQ1      , KCNQ1      , RNA5SP230  , MYL7       , SPPL3      , GLIS3      , NEPNP      , NUS1       , UBE2E2     , HMG20A     , AC046168.1 , ARAP1      , FAF1       , ZNF257     , GTF3AP5    , AC006458.1 , AC116158.2 , RASGRP1    , PRC1       , AC068831.7 , PRC1-AS1   , AC093326.1 , TMEM18     , ZNF346     , FGFR4      , TACC3      , FGFR3      , CCHCR1     , CCHCR1     , CCHCR1     , CCHCR1     , CCHCR1     , CCHCR1     , GRB14      , KCNK17     , KCNK16     , ASCL2      , USP48      , NFATC2     , DGKD       , DGKD       , AC108467.1 , THAP12P9   , LRMDA      , AC011287.1 , AC005019.2 , TSPAN15    , TMEM256P1  , FAF1       , CPA1       , RPL19P16   , LINC01153  , RNU6-891P  , MOB1B      , HNF4A      , SPIN2A     , PPP1R11P2  , PCSK1N     , PQBP1      , DLEU1      , EPC2       , CASR       , SLC1A2     , ZZEF1      , AC112187.1 , AC112187.3 , PPARG      , ETS1       , SND1       , UBE3C      , WSCD2      , LINC01122  , PPP2R2C    , PELO       , ITGA1      , SCTR       , KSR2       , BX842242.1 , PLEKHA1    , CNKSR2     , RREB1      , SLC30A8    , MIR5094    , ARPIN-AP3S2, AP3S2      , ATP8B2     , RAMP2      \\\\\n",
       "\t GCST007847 & reported & ANKRD55   , KCNQ1     , CDKN2A    , B         , CDKAL1    , GCC1      , PAX4      , DUSP9     , TCF7L2    , IGF2BP2   , HHEX      , IDE       , HNF1B     , TCF2      , SLC30A8   , FTO       , CDC123    , CAMK1D    , MAEA      , INS-IGF2  , KCNQ1     , UBE2E2    , ANK1      , GPSM1     , SPRY2     , TLE1      , GIPR      , POU5F1    , TCF19     , FAM60A    , C2CD4A    , TMEM154   , AUTS2     , SLC16A11  , A13       , RNF6      , PSMD6     , KL        , GCKR      , IL13RA1   , ZMIZ1     , MIR129-LEP, INAFM2    , KCNK16    , MC4R      , SLC35D3   , KLHDC5    , INS       , IGF2      , TMEM154   , DMRTA1    , CDKN2A    , CDKN2B    , AGPAT9    , NKX6-1    , DGKB      , GP2       , BCL2A     , INS-IGF2  , KCNQ1     , GCK       , HNF1A     , GLIS3     , NUS1      , UBE2E2    , HMG20A    , CENTD2    , ARAP1     , FAF1      , ZNF257    , DGKB      , RASGRP1   , PRC1      , TMEM18    , FGFR4     , ZNF346    , MAEA      , POU5F1    , TCF19     , GRB14     , KCNK16    , INS-IGF2  , KCNQ1     , USP48     , NFATC2    , DGKD      , GNPDA2    , C10orf11  , ZNF503    , ETV1      , ARL4A     , VPS26A    , FAF1      , KLF14     , WDR11     , FGFR2     , GRSF1     , MOB1B     , HNF4A     , SPIN2A    , FAAH2     , TIMM17B   , PCSK1N    , DLEU7     , KCNRG     , EPC2      , CASR      , CD86      , SLC1A2    , ZZEF1     , PARP8     , EMB       , PPARG     , ETS1      , GCC1      , PAX4      , MNX1      , WSCD2     , FANCL     , BCL11A    , WFS1      , ITGA1     , SCTR      , KSR2      , PLEKHA1   , CNKSR2    , SSR1      , RREB1     , SLC30A8   , AP3S2     , ATP8B2    , MLX       \\\\\n",
       "\t GCST008114 & mapped   & AGMO  , TCF7L2\\\\\n",
       "\t GCST008114 & reported & AGMO  , TCF7L2\\\\\n",
       "\\end{tabular}\n"
      ],
      "text/markdown": [
       "\n",
       "A grouped_df: 6 × 3\n",
       "\n",
       "| study &lt;chr&gt; | gene_type &lt;chr&gt; | genes &lt;list&gt; |\n",
       "|---|---|---|\n",
       "| GCST005047 | mapped   | PROX1-AS1  , WFS1       , RPL26P19   , C5orf67    , AC008581.2 , AC022414.1 , ZBED3-AS1  , CDKAL1     , DGKB       , JAZF1      , ANK1       , AC113133.1 , THADA      , AC007381.1 , COBLL1     , AC062015.1 , MIR5702    , PPARG      , UBE2E2     , ADAMTS9-AS2, ADCY5      , IGF2BP2    , AC046168.1 , AC046168.2 , AC068831.7 , VPS33B     , FTO        , CTRB2      , CTRB1      , HNF1B      , HNF1B      , SUGP1      , AC090771.1 , AC090621.1 , KCNQ1      , KCNQ1      , KCNQ1OT1   , KCNJ11     , ARAP1      , MTNR1B     , RN7SKP15   , RF02271    , RPSAP52    , AC025575.1 , AL137781.1 , SPRY2      , SLC30A8    , CDKN2B-AS1 , AL157937.1 , AL591368.1 , ZMIZ1      , HHEX       , RF00019    , TCF7L2     , KCNQ1      , KCNQ1       |\n",
       "| GCST005047 | reported | PROX1   , WFS1    , ANKRD55 , ZBED3   , CDKAL1  , DGKB    , JAZF1   , ANK1    , THADA   , BCL11A  , GRB14   , IRS1    , PPARG   , UBE2E2  , ADAMTS9 , ADCY5   , IGF2BP2 , HMG20A  , PRC1    , FTO     , BCAR1   , HNF1B   , CILP2   , MC4R    , KCNQ1   , KCNJ11  , ARAP1   , MTNR1B  , KLHDC5  , HMGA2   , TSPAN8  , LGR5    , SPRY2   , SLC30A8 , CDKN2A/B, TLE1    , ZMIZ1   , HHEX    , IDE     , TCF7L2  , KCNQ1    |\n",
       "| GCST007847 | mapped   | C5orf67    , KCNQ1      , KCNQ1      , CDKN2B-AS1 , AL157937.1 , CDKAL1     , PAX4       , DUSP9      , TCF7L2     , IGF2BP2    , HHEX       , RF00019    , HNF1B      , HNF1B      , SLC30A8    , FTO        , CDC123     , RN7SL198P  , CTBP1-DT   , KCNQ1OT1   , KCNQ1      , KCNQ1      , UBE2E2     , ANK1       , GPSM1      , AL137781.1 , SPRY2      , AL591368.1 , RN7SL836P  , GIPR       , AL662844.2 , HLA-C      , SINHCAF    , NPM1P47    , C2CD4B     , AC023424.2 , AC023424.1 , AUTS2      , SLC16A11   , AC120057.1 , RNF6       , PSMD6      , PSMD6-AS1  , TOMM22P3   , KL         , GCKR       , IL13RA1    , ZMIZ1      , MIR129-1   , LEP        , CCDC9B     , PHGR1      , GLP1R      , RNU4-17P   , AC090771.1 , RF00019    , RPL35AP3   , RN7SKP15   , RF02271    , MIR4686    , ASCL2      , FBXW7      , AL157937.1 , DMRTA1     , AC104063.1 , NKX6-1     , DGKB       , GP2        , BCL2       , KCNQ1      , KCNQ1      , RNA5SP230  , MYL7       , SPPL3      , GLIS3      , NEPNP      , NUS1       , UBE2E2     , HMG20A     , AC046168.1 , ARAP1      , FAF1       , ZNF257     , GTF3AP5    , AC006458.1 , AC116158.2 , RASGRP1    , PRC1       , AC068831.7 , PRC1-AS1   , AC093326.1 , TMEM18     , ZNF346     , FGFR4      , TACC3      , FGFR3      , CCHCR1     , CCHCR1     , CCHCR1     , CCHCR1     , CCHCR1     , CCHCR1     , GRB14      , KCNK17     , KCNK16     , ASCL2      , USP48      , NFATC2     , DGKD       , DGKD       , AC108467.1 , THAP12P9   , LRMDA      , AC011287.1 , AC005019.2 , TSPAN15    , TMEM256P1  , FAF1       , CPA1       , RPL19P16   , LINC01153  , RNU6-891P  , MOB1B      , HNF4A      , SPIN2A     , PPP1R11P2  , PCSK1N     , PQBP1      , DLEU1      , EPC2       , CASR       , SLC1A2     , ZZEF1      , AC112187.1 , AC112187.3 , PPARG      , ETS1       , SND1       , UBE3C      , WSCD2      , LINC01122  , PPP2R2C    , PELO       , ITGA1      , SCTR       , KSR2       , BX842242.1 , PLEKHA1    , CNKSR2     , RREB1      , SLC30A8    , MIR5094    , ARPIN-AP3S2, AP3S2      , ATP8B2     , RAMP2       |\n",
       "| GCST007847 | reported | ANKRD55   , KCNQ1     , CDKN2A    , B         , CDKAL1    , GCC1      , PAX4      , DUSP9     , TCF7L2    , IGF2BP2   , HHEX      , IDE       , HNF1B     , TCF2      , SLC30A8   , FTO       , CDC123    , CAMK1D    , MAEA      , INS-IGF2  , KCNQ1     , UBE2E2    , ANK1      , GPSM1     , SPRY2     , TLE1      , GIPR      , POU5F1    , TCF19     , FAM60A    , C2CD4A    , TMEM154   , AUTS2     , SLC16A11  , A13       , RNF6      , PSMD6     , KL        , GCKR      , IL13RA1   , ZMIZ1     , MIR129-LEP, INAFM2    , KCNK16    , MC4R      , SLC35D3   , KLHDC5    , INS       , IGF2      , TMEM154   , DMRTA1    , CDKN2A    , CDKN2B    , AGPAT9    , NKX6-1    , DGKB      , GP2       , BCL2A     , INS-IGF2  , KCNQ1     , GCK       , HNF1A     , GLIS3     , NUS1      , UBE2E2    , HMG20A    , CENTD2    , ARAP1     , FAF1      , ZNF257    , DGKB      , RASGRP1   , PRC1      , TMEM18    , FGFR4     , ZNF346    , MAEA      , POU5F1    , TCF19     , GRB14     , KCNK16    , INS-IGF2  , KCNQ1     , USP48     , NFATC2    , DGKD      , GNPDA2    , C10orf11  , ZNF503    , ETV1      , ARL4A     , VPS26A    , FAF1      , KLF14     , WDR11     , FGFR2     , GRSF1     , MOB1B     , HNF4A     , SPIN2A    , FAAH2     , TIMM17B   , PCSK1N    , DLEU7     , KCNRG     , EPC2      , CASR      , CD86      , SLC1A2    , ZZEF1     , PARP8     , EMB       , PPARG     , ETS1      , GCC1      , PAX4      , MNX1      , WSCD2     , FANCL     , BCL11A    , WFS1      , ITGA1     , SCTR      , KSR2      , PLEKHA1   , CNKSR2    , SSR1      , RREB1     , SLC30A8   , AP3S2     , ATP8B2    , MLX        |\n",
       "| GCST008114 | mapped   | AGMO  , TCF7L2 |\n",
       "| GCST008114 | reported | AGMO  , TCF7L2 |\n",
       "\n"
      ],
      "text/plain": [
       "  study      gene_type\n",
       "1 GCST005047 mapped   \n",
       "2 GCST005047 reported \n",
       "3 GCST007847 mapped   \n",
       "4 GCST007847 reported \n",
       "5 GCST008114 mapped   \n",
       "6 GCST008114 reported \n",
       "  genes                                                                                                                                                                                                                                                                                                                                                                                                                                                                                                                                                                                                                                                                                                                                                                                                                                                                                                                                                                                                                                                                                                                                                                                                                                                                                                                                                                                                                                                                                                                                                                                                                                                                                                                                                                                                                                                                                                                                                                                                                                                                                                     \n",
       "1 PROX1-AS1  , WFS1       , RPL26P19   , C5orf67    , AC008581.2 , AC022414.1 , ZBED3-AS1  , CDKAL1     , DGKB       , JAZF1      , ANK1       , AC113133.1 , THADA      , AC007381.1 , COBLL1     , AC062015.1 , MIR5702    , PPARG      , UBE2E2     , ADAMTS9-AS2, ADCY5      , IGF2BP2    , AC046168.1 , AC046168.2 , AC068831.7 , VPS33B     , FTO        , CTRB2      , CTRB1      , HNF1B      , HNF1B      , SUGP1      , AC090771.1 , AC090621.1 , KCNQ1      , KCNQ1      , KCNQ1OT1   , KCNJ11     , ARAP1      , MTNR1B     , RN7SKP15   , RF02271    , RPSAP52    , AC025575.1 , AL137781.1 , SPRY2      , SLC30A8    , CDKN2B-AS1 , AL157937.1 , AL591368.1 , ZMIZ1      , HHEX       , RF00019    , TCF7L2     , KCNQ1      , KCNQ1                                                                                                                                                                                                                                                                                                                                                                                                                                                                                                                                                                                                                                                                                                                                                                                                                                                                                                                                                                                                                                                                                                                                                                                                                                                                                                                                                          \n",
       "2 PROX1   , WFS1    , ANKRD55 , ZBED3   , CDKAL1  , DGKB    , JAZF1   , ANK1    , THADA   , BCL11A  , GRB14   , IRS1    , PPARG   , UBE2E2  , ADAMTS9 , ADCY5   , IGF2BP2 , HMG20A  , PRC1    , FTO     , BCAR1   , HNF1B   , CILP2   , MC4R    , KCNQ1   , KCNJ11  , ARAP1   , MTNR1B  , KLHDC5  , HMGA2   , TSPAN8  , LGR5    , SPRY2   , SLC30A8 , CDKN2A/B, TLE1    , ZMIZ1   , HHEX    , IDE     , TCF7L2  , KCNQ1                                                                                                                                                                                                                                                                                                                                                                                                                                                                                                                                                                                                                                                                                                                                                                                                                                                                                                                                                                                                                                                                                                                                                                                                                                                                                                                                                                                                                                                                                                                                                                                                                                                                                     \n",
       "3 C5orf67    , KCNQ1      , KCNQ1      , CDKN2B-AS1 , AL157937.1 , CDKAL1     , PAX4       , DUSP9      , TCF7L2     , IGF2BP2    , HHEX       , RF00019    , HNF1B      , HNF1B      , SLC30A8    , FTO        , CDC123     , RN7SL198P  , CTBP1-DT   , KCNQ1OT1   , KCNQ1      , KCNQ1      , UBE2E2     , ANK1       , GPSM1      , AL137781.1 , SPRY2      , AL591368.1 , RN7SL836P  , GIPR       , AL662844.2 , HLA-C      , SINHCAF    , NPM1P47    , C2CD4B     , AC023424.2 , AC023424.1 , AUTS2      , SLC16A11   , AC120057.1 , RNF6       , PSMD6      , PSMD6-AS1  , TOMM22P3   , KL         , GCKR       , IL13RA1    , ZMIZ1      , MIR129-1   , LEP        , CCDC9B     , PHGR1      , GLP1R      , RNU4-17P   , AC090771.1 , RF00019    , RPL35AP3   , RN7SKP15   , RF02271    , MIR4686    , ASCL2      , FBXW7      , AL157937.1 , DMRTA1     , AC104063.1 , NKX6-1     , DGKB       , GP2        , BCL2       , KCNQ1      , KCNQ1      , RNA5SP230  , MYL7       , SPPL3      , GLIS3      , NEPNP      , NUS1       , UBE2E2     , HMG20A     , AC046168.1 , ARAP1      , FAF1       , ZNF257     , GTF3AP5    , AC006458.1 , AC116158.2 , RASGRP1    , PRC1       , AC068831.7 , PRC1-AS1   , AC093326.1 , TMEM18     , ZNF346     , FGFR4      , TACC3      , FGFR3      , CCHCR1     , CCHCR1     , CCHCR1     , CCHCR1     , CCHCR1     , CCHCR1     , GRB14      , KCNK17     , KCNK16     , ASCL2      , USP48      , NFATC2     , DGKD       , DGKD       , AC108467.1 , THAP12P9   , LRMDA      , AC011287.1 , AC005019.2 , TSPAN15    , TMEM256P1  , FAF1       , CPA1       , RPL19P16   , LINC01153  , RNU6-891P  , MOB1B      , HNF4A      , SPIN2A     , PPP1R11P2  , PCSK1N     , PQBP1      , DLEU1      , EPC2       , CASR       , SLC1A2     , ZZEF1      , AC112187.1 , AC112187.3 , PPARG      , ETS1       , SND1       , UBE3C      , WSCD2      , LINC01122  , PPP2R2C    , PELO       , ITGA1      , SCTR       , KSR2       , BX842242.1 , PLEKHA1    , CNKSR2     , RREB1      , SLC30A8    , MIR5094    , ARPIN-AP3S2, AP3S2      , ATP8B2     , RAMP2      \n",
       "4 ANKRD55   , KCNQ1     , CDKN2A    , B         , CDKAL1    , GCC1      , PAX4      , DUSP9     , TCF7L2    , IGF2BP2   , HHEX      , IDE       , HNF1B     , TCF2      , SLC30A8   , FTO       , CDC123    , CAMK1D    , MAEA      , INS-IGF2  , KCNQ1     , UBE2E2    , ANK1      , GPSM1     , SPRY2     , TLE1      , GIPR      , POU5F1    , TCF19     , FAM60A    , C2CD4A    , TMEM154   , AUTS2     , SLC16A11  , A13       , RNF6      , PSMD6     , KL        , GCKR      , IL13RA1   , ZMIZ1     , MIR129-LEP, INAFM2    , KCNK16    , MC4R      , SLC35D3   , KLHDC5    , INS       , IGF2      , TMEM154   , DMRTA1    , CDKN2A    , CDKN2B    , AGPAT9    , NKX6-1    , DGKB      , GP2       , BCL2A     , INS-IGF2  , KCNQ1     , GCK       , HNF1A     , GLIS3     , NUS1      , UBE2E2    , HMG20A    , CENTD2    , ARAP1     , FAF1      , ZNF257    , DGKB      , RASGRP1   , PRC1      , TMEM18    , FGFR4     , ZNF346    , MAEA      , POU5F1    , TCF19     , GRB14     , KCNK16    , INS-IGF2  , KCNQ1     , USP48     , NFATC2    , DGKD      , GNPDA2    , C10orf11  , ZNF503    , ETV1      , ARL4A     , VPS26A    , FAF1      , KLF14     , WDR11     , FGFR2     , GRSF1     , MOB1B     , HNF4A     , SPIN2A    , FAAH2     , TIMM17B   , PCSK1N    , DLEU7     , KCNRG     , EPC2      , CASR      , CD86      , SLC1A2    , ZZEF1     , PARP8     , EMB       , PPARG     , ETS1      , GCC1      , PAX4      , MNX1      , WSCD2     , FANCL     , BCL11A    , WFS1      , ITGA1     , SCTR      , KSR2      , PLEKHA1   , CNKSR2    , SSR1      , RREB1     , SLC30A8   , AP3S2     , ATP8B2    , MLX                                                                                                                                                                                                                                                                                                                                                                                                                                                                   \n",
       "5 AGMO  , TCF7L2                                                                                                                                                                                                                                                                                                                                                                                                                                                                                                                                                                                                                                                                                                                                                                                                                                                                                                                                                                                                                                                                                                                                                                                                                                                                                                                                                                                                                                                                                                                                                                                                                                                                                                                                                                                                                                                                                                                                                                                                                                                                                            \n",
       "6 AGMO  , TCF7L2                                                                                                                                                                                                                                                                                                                                                                                                                                                                                                                                                                                                                                                                                                                                                                                                                                                                                                                                                                                                                                                                                                                                                                                                                                                                                                                                                                                                                                                                                                                                                                                                                                                                                                                                                                                                                                                                                                                                                                                                                                                                                            "
      ]
     },
     "metadata": {},
     "output_type": "display_data"
    }
   ],
   "source": [
    "gwas_df %>%\n",
    "    select(study = 'STUDY ACCESSION', reported = 'REPORTED GENE(S)', mapped = 'MAPPED_GENE',\n",
    "           p_value = 'P-VALUE', p_value_desc = 'P-VALUE (TEXT)') %>%\n",
    "    pivot_longer(c(reported, mapped), names_to = 'gene_type', values_to = 'gene') %>%\n",
    "    separate_rows(gene, sep = ' - |, ') %>%\n",
    "    filter(p_value < 5e-8) %>%\n",
    "    # Filter out those loci which are conditional on gender\n",
    "    filter(is.na(p_value_desc) | !str_detect(p_value_desc, 'men|female')) %>%\n",
    "    group_by(study, gene_type) %>%\n",
    "    summarize(genes = list(gene))"
   ]
  },
  {
   "cell_type": "markdown",
   "metadata": {},
   "source": [
    "# Enriched biological processes"
   ]
  },
  {
   "cell_type": "code",
   "execution_count": 16,
   "metadata": {
    "scrolled": true
   },
   "outputs": [
    {
     "name": "stderr",
     "output_type": "stream",
     "text": [
      "Parsed with column specification:\n",
      "cols(\n",
      "  `GO biological process complete` = col_character(),\n",
      "  `Homo sapiens - REFLIST (20996)` = col_double(),\n",
      "  `GCST005047mapped.txt (33)` = col_double(),\n",
      "  `GCST005047mapped.txt (expected)` = col_double(),\n",
      "  `GCST005047mapped.txt (over/under)` = col_character(),\n",
      "  `GCST005047mapped.txt (fold Enrichment)` = col_character(),\n",
      "  `GCST005047mapped.txt (raw P-value)` = col_double(),\n",
      "  `GCST005047mapped.txt (FDR)` = col_double()\n",
      ")\n",
      "Parsed with column specification:\n",
      "cols(\n",
      "  `GO biological process complete` = col_character(),\n",
      "  `Homo sapiens - REFLIST (20996)` = col_double(),\n",
      "  `GCST005047reported.txt (38)` = col_double(),\n",
      "  `GCST005047reported.txt (expected)` = col_double(),\n",
      "  `GCST005047reported.txt (over/under)` = col_character(),\n",
      "  `GCST005047reported.txt (fold Enrichment)` = col_character(),\n",
      "  `GCST005047reported.txt (raw P-value)` = col_double(),\n",
      "  `GCST005047reported.txt (FDR)` = col_double()\n",
      ")\n",
      "Parsed with column specification:\n",
      "cols(\n",
      "  `GO biological process complete` = col_character(),\n",
      "  `Homo sapiens - REFLIST (20996)` = col_double(),\n",
      "  `GCST007847mapped.txt (106)` = col_double(),\n",
      "  `GCST007847mapped.txt (expected)` = col_double(),\n",
      "  `GCST007847mapped.txt (over/under)` = col_character(),\n",
      "  `GCST007847mapped.txt (fold Enrichment)` = col_character(),\n",
      "  `GCST007847mapped.txt (raw P-value)` = col_double(),\n",
      "  `GCST007847mapped.txt (FDR)` = col_double()\n",
      ")\n",
      "Parsed with column specification:\n",
      "cols(\n",
      "  `GO biological process complete` = col_character(),\n",
      "  `Homo sapiens - REFLIST (20996)` = col_double(),\n",
      "  `GCST007847reported.txt (110)` = col_double(),\n",
      "  `GCST007847reported.txt (expected)` = col_double(),\n",
      "  `GCST007847reported.txt (over/under)` = col_character(),\n",
      "  `GCST007847reported.txt (fold Enrichment)` = col_character(),\n",
      "  `GCST007847reported.txt (raw P-value)` = col_double(),\n",
      "  `GCST007847reported.txt (FDR)` = col_double()\n",
      ")\n",
      "Parsed with column specification:\n",
      "cols(\n",
      "  `GO biological process complete` = col_character(),\n",
      "  `Homo sapiens - REFLIST (20996)` = col_double(),\n",
      "  `GCST008114mapped.txt (2)` = col_double(),\n",
      "  `GCST008114mapped.txt (expected)` = col_double(),\n",
      "  `GCST008114mapped.txt (over/under)` = col_character(),\n",
      "  `GCST008114mapped.txt (fold Enrichment)` = col_character(),\n",
      "  `GCST008114mapped.txt (raw P-value)` = col_double(),\n",
      "  `GCST008114mapped.txt (FDR)` = col_double()\n",
      ")\n",
      "Parsed with column specification:\n",
      "cols(\n",
      "  `GO biological process complete` = col_character(),\n",
      "  `Homo sapiens - REFLIST (20996)` = col_double(),\n",
      "  `GCST008114reported.txt (2)` = col_double(),\n",
      "  `GCST008114reported.txt (expected)` = col_double(),\n",
      "  `GCST008114reported.txt (over/under)` = col_character(),\n",
      "  `GCST008114reported.txt (fold Enrichment)` = col_character(),\n",
      "  `GCST008114reported.txt (raw P-value)` = col_double(),\n",
      "  `GCST008114reported.txt (FDR)` = col_double()\n",
      ")\n"
     ]
    }
   ],
   "source": [
    "filenames <- c('GCST005047mapped', 'GCST005047reported', 'GCST007847mapped', \n",
    "              'GCST007847reported', 'GCST008114mapped', 'GCST008114reported')\n",
    "\n",
    "enrichment_df <- data.frame()\n",
    "\n",
    "# Iterate over the filenames and add formatted rows for each\n",
    "for (filename in filenames) {\n",
    "    enrichment_df <- bind_rows(\n",
    "        enrichment_df,\n",
    "        read_tsv(paste('../data/go_bp/', filename, '.txt', sep = ''), skip = 11) %>%\n",
    "            mutate(\n",
    "                study = str_extract(filename, '.+(?=mapped|reported)'),              \n",
    "                population = study %>% recode(\n",
    "                    'GCST008114' = 'African',\n",
    "                    'GCST005047' = 'European',\n",
    "                    'GCST007847' = 'Japanese'\n",
    "                ),\n",
    "                gene_type = str_extract(filename, 'mapped|reported'),\n",
    "                num_genes_input = colnames(.)[3] %>% str_extract('[0-9]+(?=\\\\)$)'),\n",
    "                num_genes_refset = colnames(.)[2] %>% str_extract('[0-9]+(?=\\\\)$)')\n",
    "            )  %>%\n",
    "            rename(\n",
    "                go_bp = colnames(.)[1],\n",
    "                bp_genes_refset = colnames(.)[2],\n",
    "                bp_genes_input = colnames(.)[3],\n",
    "                expected_genes = colnames(.)[4],\n",
    "                over_under = colnames(.)[5],\n",
    "                fold_enrichment = colnames(.)[6],\n",
    "                raw_p_value = colnames(.)[7],\n",
    "                fdr = colnames(.)[8],\n",
    "            )\n",
    "    )\n",
    "}"
   ]
  },
  {
   "cell_type": "code",
   "execution_count": 17,
   "metadata": {},
   "outputs": [
    {
     "data": {
      "text/html": [
       "<table>\n",
       "<caption>A tibble: 11 × 4</caption>\n",
       "<thead>\n",
       "\t<tr><th scope=col>go_bp</th><th scope=col>African</th><th scope=col>European</th><th scope=col>Japanese</th></tr>\n",
       "\t<tr><th scope=col>&lt;chr&gt;</th><th scope=col>&lt;dbl&gt;</th><th scope=col>&lt;dbl&gt;</th><th scope=col>&lt;dbl&gt;</th></tr>\n",
       "</thead>\n",
       "<tbody>\n",
       "\t<tr><td>negative regulation of insulin secretion (GO:0046676)</td><td>1</td><td>0.01770</td><td>1.00e+00</td></tr>\n",
       "\t<tr><td>insulin secretion (GO:0030073)                       </td><td>1</td><td>0.01890</td><td>1.23e-02</td></tr>\n",
       "\t<tr><td>insulin receptor signaling pathway (GO:0008286)      </td><td>1</td><td>0.00897</td><td>1.92e-02</td></tr>\n",
       "\t<tr><td>regulation of insulin secretion (GO:0050796)         </td><td>1</td><td>0.00158</td><td>1.04e-02</td></tr>\n",
       "\t<tr><td>glucose homeostasis (GO:0042593)                     </td><td>1</td><td>0.00194</td><td>7.62e-05</td></tr>\n",
       "\t<tr><td>cellular response to insulin stimulus (GO:0032869)   </td><td>1</td><td>0.00597</td><td>6.44e-03</td></tr>\n",
       "\t<tr><td>response to glucose (GO:0009749)                     </td><td>1</td><td>0.03200</td><td>7.72e-05</td></tr>\n",
       "\t<tr><td>positive regulation of insulin secretion (GO:0032024)</td><td>1</td><td>0.41100</td><td>1.24e-03</td></tr>\n",
       "\t<tr><td>response to insulin (GO:0032868)                     </td><td>1</td><td>0.00353</td><td>7.55e-03</td></tr>\n",
       "\t<tr><td>regulation of glucose metabolic process (GO:0010906) </td><td>1</td><td>1.00000</td><td>4.89e-02</td></tr>\n",
       "\t<tr><td>detection of glucose (GO:0051594)                    </td><td>1</td><td>1.00000</td><td>3.44e-02</td></tr>\n",
       "</tbody>\n",
       "</table>\n"
      ],
      "text/latex": [
       "A tibble: 11 × 4\n",
       "\\begin{tabular}{r|llll}\n",
       " go\\_bp & African & European & Japanese\\\\\n",
       " <chr> & <dbl> & <dbl> & <dbl>\\\\\n",
       "\\hline\n",
       "\t negative regulation of insulin secretion (GO:0046676) & 1 & 0.01770 & 1.00e+00\\\\\n",
       "\t insulin secretion (GO:0030073)                        & 1 & 0.01890 & 1.23e-02\\\\\n",
       "\t insulin receptor signaling pathway (GO:0008286)       & 1 & 0.00897 & 1.92e-02\\\\\n",
       "\t regulation of insulin secretion (GO:0050796)          & 1 & 0.00158 & 1.04e-02\\\\\n",
       "\t glucose homeostasis (GO:0042593)                      & 1 & 0.00194 & 7.62e-05\\\\\n",
       "\t cellular response to insulin stimulus (GO:0032869)    & 1 & 0.00597 & 6.44e-03\\\\\n",
       "\t response to glucose (GO:0009749)                      & 1 & 0.03200 & 7.72e-05\\\\\n",
       "\t positive regulation of insulin secretion (GO:0032024) & 1 & 0.41100 & 1.24e-03\\\\\n",
       "\t response to insulin (GO:0032868)                      & 1 & 0.00353 & 7.55e-03\\\\\n",
       "\t regulation of glucose metabolic process (GO:0010906)  & 1 & 1.00000 & 4.89e-02\\\\\n",
       "\t detection of glucose (GO:0051594)                     & 1 & 1.00000 & 3.44e-02\\\\\n",
       "\\end{tabular}\n"
      ],
      "text/markdown": [
       "\n",
       "A tibble: 11 × 4\n",
       "\n",
       "| go_bp &lt;chr&gt; | African &lt;dbl&gt; | European &lt;dbl&gt; | Japanese &lt;dbl&gt; |\n",
       "|---|---|---|---|\n",
       "| negative regulation of insulin secretion (GO:0046676) | 1 | 0.01770 | 1.00e+00 |\n",
       "| insulin secretion (GO:0030073)                        | 1 | 0.01890 | 1.23e-02 |\n",
       "| insulin receptor signaling pathway (GO:0008286)       | 1 | 0.00897 | 1.92e-02 |\n",
       "| regulation of insulin secretion (GO:0050796)          | 1 | 0.00158 | 1.04e-02 |\n",
       "| glucose homeostasis (GO:0042593)                      | 1 | 0.00194 | 7.62e-05 |\n",
       "| cellular response to insulin stimulus (GO:0032869)    | 1 | 0.00597 | 6.44e-03 |\n",
       "| response to glucose (GO:0009749)                      | 1 | 0.03200 | 7.72e-05 |\n",
       "| positive regulation of insulin secretion (GO:0032024) | 1 | 0.41100 | 1.24e-03 |\n",
       "| response to insulin (GO:0032868)                      | 1 | 0.00353 | 7.55e-03 |\n",
       "| regulation of glucose metabolic process (GO:0010906)  | 1 | 1.00000 | 4.89e-02 |\n",
       "| detection of glucose (GO:0051594)                     | 1 | 1.00000 | 3.44e-02 |\n",
       "\n"
      ],
      "text/plain": [
       "   go_bp                                                 African European\n",
       "1  negative regulation of insulin secretion (GO:0046676) 1       0.01770 \n",
       "2  insulin secretion (GO:0030073)                        1       0.01890 \n",
       "3  insulin receptor signaling pathway (GO:0008286)       1       0.00897 \n",
       "4  regulation of insulin secretion (GO:0050796)          1       0.00158 \n",
       "5  glucose homeostasis (GO:0042593)                      1       0.00194 \n",
       "6  cellular response to insulin stimulus (GO:0032869)    1       0.00597 \n",
       "7  response to glucose (GO:0009749)                      1       0.03200 \n",
       "8  positive regulation of insulin secretion (GO:0032024) 1       0.41100 \n",
       "9  response to insulin (GO:0032868)                      1       0.00353 \n",
       "10 regulation of glucose metabolic process (GO:0010906)  1       1.00000 \n",
       "11 detection of glucose (GO:0051594)                     1       1.00000 \n",
       "   Japanese\n",
       "1  1.00e+00\n",
       "2  1.23e-02\n",
       "3  1.92e-02\n",
       "4  1.04e-02\n",
       "5  7.62e-05\n",
       "6  6.44e-03\n",
       "7  7.72e-05\n",
       "8  1.24e-03\n",
       "9  7.55e-03\n",
       "10 4.89e-02\n",
       "11 3.44e-02"
      ]
     },
     "metadata": {},
     "output_type": "display_data"
    }
   ],
   "source": [
    "# Enrichment in BP involving glucose or insulin\n",
    "enrichment_df %>%\n",
    "    filter(go_bp %>% str_detect('insulin|glucose')) %>%\n",
    "    filter(gene_type == 'reported') %>%\n",
    "    distinct(population, go_bp, fdr) %>%\n",
    "    pivot_wider(id_cols = go_bp, names_from = population, values_from = fdr) %>%\n",
    "    filter(European < 0.05 | Japanese < 0.05 | African < 0.05) %>%\n",
    "    select(go_bp, African, European, Japanese)"
   ]
  },
  {
   "cell_type": "code",
   "execution_count": 18,
   "metadata": {},
   "outputs": [
    {
     "data": {
      "text/html": [
       "<table>\n",
       "<caption>A tibble: 20 × 4</caption>\n",
       "<thead>\n",
       "\t<tr><th scope=col>go_bp</th><th scope=col>African</th><th scope=col>European</th><th scope=col>Japanese</th></tr>\n",
       "\t<tr><th scope=col>&lt;chr&gt;</th><th scope=col>&lt;dbl&gt;</th><th scope=col>&lt;dbl&gt;</th><th scope=col>&lt;dbl&gt;</th></tr>\n",
       "</thead>\n",
       "<tbody>\n",
       "\t<tr><td>positive regulation of biological process (GO:0048518)                         </td><td>1</td><td>0.000424</td><td>2.26e-07</td></tr>\n",
       "\t<tr><td>regulation of multicellular organismal process (GO:0051239)                    </td><td>1</td><td>0.000870</td><td>2.16e-02</td></tr>\n",
       "\t<tr><td>response to peptide hormone (GO:0043434)                                       </td><td>1</td><td>0.000919</td><td>9.71e-03</td></tr>\n",
       "\t<tr><td>regulation of hormone levels (GO:0010817)                                      </td><td>1</td><td>0.000934</td><td>3.78e-04</td></tr>\n",
       "\t<tr><td>response to oxygen-containing compound (GO:1901700)                            </td><td>1</td><td>0.001020</td><td>5.59e-05</td></tr>\n",
       "\t<tr><td>response to organonitrogen compound (GO:0010243)                               </td><td>1</td><td>0.001030</td><td>1.28e-02</td></tr>\n",
       "\t<tr><td>positive regulation of cellular process (GO:0048522)                           </td><td>1</td><td>0.001040</td><td>3.51e-06</td></tr>\n",
       "\t<tr><td>negative regulation of biological process (GO:0048519)                         </td><td>1</td><td>0.001040</td><td>1.92e-03</td></tr>\n",
       "\t<tr><td>response to nitrogen compound (GO:1901698)                                     </td><td>1</td><td>0.001210</td><td>2.66e-02</td></tr>\n",
       "\t<tr><td>regulation of insulin secretion (GO:0050796)                                   </td><td>1</td><td>0.001580</td><td>1.04e-02</td></tr>\n",
       "\t<tr><td>regulation of biological process (GO:0050789)                                  </td><td>1</td><td>0.001820</td><td>3.26e-06</td></tr>\n",
       "\t<tr><td>carbohydrate homeostasis (GO:0033500)                                          </td><td>1</td><td>0.001840</td><td>7.62e-05</td></tr>\n",
       "\t<tr><td>glucose homeostasis (GO:0042593)                                               </td><td>1</td><td>0.001940</td><td>7.62e-05</td></tr>\n",
       "\t<tr><td>response to peptide (GO:1901652)                                               </td><td>1</td><td>0.002320</td><td>9.24e-03</td></tr>\n",
       "\t<tr><td>regulation of peptide hormone secretion (GO:0090276)                           </td><td>1</td><td>0.002780</td><td>4.60e-03</td></tr>\n",
       "\t<tr><td>negative regulation of transcription by RNA polymerase II (GO:0000122)         </td><td>1</td><td>0.002790</td><td>1.10e-03</td></tr>\n",
       "\t<tr><td>response to insulin (GO:0032868)                                               </td><td>1</td><td>0.003530</td><td>7.55e-03</td></tr>\n",
       "\t<tr><td>negative regulation of cellular macromolecule biosynthetic process (GO:2000113)</td><td>1</td><td>0.003690</td><td>1.03e-03</td></tr>\n",
       "\t<tr><td>regulation of biological quality (GO:0065008)                                  </td><td>1</td><td>0.004030</td><td>3.38e-03</td></tr>\n",
       "\t<tr><td>response to organic substance (GO:0010033)                                     </td><td>1</td><td>0.004670</td><td>5.50e-04</td></tr>\n",
       "</tbody>\n",
       "</table>\n"
      ],
      "text/latex": [
       "A tibble: 20 × 4\n",
       "\\begin{tabular}{r|llll}\n",
       " go\\_bp & African & European & Japanese\\\\\n",
       " <chr> & <dbl> & <dbl> & <dbl>\\\\\n",
       "\\hline\n",
       "\t positive regulation of biological process (GO:0048518)                          & 1 & 0.000424 & 2.26e-07\\\\\n",
       "\t regulation of multicellular organismal process (GO:0051239)                     & 1 & 0.000870 & 2.16e-02\\\\\n",
       "\t response to peptide hormone (GO:0043434)                                        & 1 & 0.000919 & 9.71e-03\\\\\n",
       "\t regulation of hormone levels (GO:0010817)                                       & 1 & 0.000934 & 3.78e-04\\\\\n",
       "\t response to oxygen-containing compound (GO:1901700)                             & 1 & 0.001020 & 5.59e-05\\\\\n",
       "\t response to organonitrogen compound (GO:0010243)                                & 1 & 0.001030 & 1.28e-02\\\\\n",
       "\t positive regulation of cellular process (GO:0048522)                            & 1 & 0.001040 & 3.51e-06\\\\\n",
       "\t negative regulation of biological process (GO:0048519)                          & 1 & 0.001040 & 1.92e-03\\\\\n",
       "\t response to nitrogen compound (GO:1901698)                                      & 1 & 0.001210 & 2.66e-02\\\\\n",
       "\t regulation of insulin secretion (GO:0050796)                                    & 1 & 0.001580 & 1.04e-02\\\\\n",
       "\t regulation of biological process (GO:0050789)                                   & 1 & 0.001820 & 3.26e-06\\\\\n",
       "\t carbohydrate homeostasis (GO:0033500)                                           & 1 & 0.001840 & 7.62e-05\\\\\n",
       "\t glucose homeostasis (GO:0042593)                                                & 1 & 0.001940 & 7.62e-05\\\\\n",
       "\t response to peptide (GO:1901652)                                                & 1 & 0.002320 & 9.24e-03\\\\\n",
       "\t regulation of peptide hormone secretion (GO:0090276)                            & 1 & 0.002780 & 4.60e-03\\\\\n",
       "\t negative regulation of transcription by RNA polymerase II (GO:0000122)          & 1 & 0.002790 & 1.10e-03\\\\\n",
       "\t response to insulin (GO:0032868)                                                & 1 & 0.003530 & 7.55e-03\\\\\n",
       "\t negative regulation of cellular macromolecule biosynthetic process (GO:2000113) & 1 & 0.003690 & 1.03e-03\\\\\n",
       "\t regulation of biological quality (GO:0065008)                                   & 1 & 0.004030 & 3.38e-03\\\\\n",
       "\t response to organic substance (GO:0010033)                                      & 1 & 0.004670 & 5.50e-04\\\\\n",
       "\\end{tabular}\n"
      ],
      "text/markdown": [
       "\n",
       "A tibble: 20 × 4\n",
       "\n",
       "| go_bp &lt;chr&gt; | African &lt;dbl&gt; | European &lt;dbl&gt; | Japanese &lt;dbl&gt; |\n",
       "|---|---|---|---|\n",
       "| positive regulation of biological process (GO:0048518)                          | 1 | 0.000424 | 2.26e-07 |\n",
       "| regulation of multicellular organismal process (GO:0051239)                     | 1 | 0.000870 | 2.16e-02 |\n",
       "| response to peptide hormone (GO:0043434)                                        | 1 | 0.000919 | 9.71e-03 |\n",
       "| regulation of hormone levels (GO:0010817)                                       | 1 | 0.000934 | 3.78e-04 |\n",
       "| response to oxygen-containing compound (GO:1901700)                             | 1 | 0.001020 | 5.59e-05 |\n",
       "| response to organonitrogen compound (GO:0010243)                                | 1 | 0.001030 | 1.28e-02 |\n",
       "| positive regulation of cellular process (GO:0048522)                            | 1 | 0.001040 | 3.51e-06 |\n",
       "| negative regulation of biological process (GO:0048519)                          | 1 | 0.001040 | 1.92e-03 |\n",
       "| response to nitrogen compound (GO:1901698)                                      | 1 | 0.001210 | 2.66e-02 |\n",
       "| regulation of insulin secretion (GO:0050796)                                    | 1 | 0.001580 | 1.04e-02 |\n",
       "| regulation of biological process (GO:0050789)                                   | 1 | 0.001820 | 3.26e-06 |\n",
       "| carbohydrate homeostasis (GO:0033500)                                           | 1 | 0.001840 | 7.62e-05 |\n",
       "| glucose homeostasis (GO:0042593)                                                | 1 | 0.001940 | 7.62e-05 |\n",
       "| response to peptide (GO:1901652)                                                | 1 | 0.002320 | 9.24e-03 |\n",
       "| regulation of peptide hormone secretion (GO:0090276)                            | 1 | 0.002780 | 4.60e-03 |\n",
       "| negative regulation of transcription by RNA polymerase II (GO:0000122)          | 1 | 0.002790 | 1.10e-03 |\n",
       "| response to insulin (GO:0032868)                                                | 1 | 0.003530 | 7.55e-03 |\n",
       "| negative regulation of cellular macromolecule biosynthetic process (GO:2000113) | 1 | 0.003690 | 1.03e-03 |\n",
       "| regulation of biological quality (GO:0065008)                                   | 1 | 0.004030 | 3.38e-03 |\n",
       "| response to organic substance (GO:0010033)                                      | 1 | 0.004670 | 5.50e-04 |\n",
       "\n"
      ],
      "text/plain": [
       "   go_bp                                                                          \n",
       "1  positive regulation of biological process (GO:0048518)                         \n",
       "2  regulation of multicellular organismal process (GO:0051239)                    \n",
       "3  response to peptide hormone (GO:0043434)                                       \n",
       "4  regulation of hormone levels (GO:0010817)                                      \n",
       "5  response to oxygen-containing compound (GO:1901700)                            \n",
       "6  response to organonitrogen compound (GO:0010243)                               \n",
       "7  positive regulation of cellular process (GO:0048522)                           \n",
       "8  negative regulation of biological process (GO:0048519)                         \n",
       "9  response to nitrogen compound (GO:1901698)                                     \n",
       "10 regulation of insulin secretion (GO:0050796)                                   \n",
       "11 regulation of biological process (GO:0050789)                                  \n",
       "12 carbohydrate homeostasis (GO:0033500)                                          \n",
       "13 glucose homeostasis (GO:0042593)                                               \n",
       "14 response to peptide (GO:1901652)                                               \n",
       "15 regulation of peptide hormone secretion (GO:0090276)                           \n",
       "16 negative regulation of transcription by RNA polymerase II (GO:0000122)         \n",
       "17 response to insulin (GO:0032868)                                               \n",
       "18 negative regulation of cellular macromolecule biosynthetic process (GO:2000113)\n",
       "19 regulation of biological quality (GO:0065008)                                  \n",
       "20 response to organic substance (GO:0010033)                                     \n",
       "   African European Japanese\n",
       "1  1       0.000424 2.26e-07\n",
       "2  1       0.000870 2.16e-02\n",
       "3  1       0.000919 9.71e-03\n",
       "4  1       0.000934 3.78e-04\n",
       "5  1       0.001020 5.59e-05\n",
       "6  1       0.001030 1.28e-02\n",
       "7  1       0.001040 3.51e-06\n",
       "8  1       0.001040 1.92e-03\n",
       "9  1       0.001210 2.66e-02\n",
       "10 1       0.001580 1.04e-02\n",
       "11 1       0.001820 3.26e-06\n",
       "12 1       0.001840 7.62e-05\n",
       "13 1       0.001940 7.62e-05\n",
       "14 1       0.002320 9.24e-03\n",
       "15 1       0.002780 4.60e-03\n",
       "16 1       0.002790 1.10e-03\n",
       "17 1       0.003530 7.55e-03\n",
       "18 1       0.003690 1.03e-03\n",
       "19 1       0.004030 3.38e-03\n",
       "20 1       0.004670 5.50e-04"
      ]
     },
     "metadata": {},
     "output_type": "display_data"
    }
   ],
   "source": [
    "# Enriched in reported genes\n",
    "enrichment_df %>%\n",
    "    filter(gene_type == 'reported') %>%\n",
    "    select(go_bp, population, fdr) %>%\n",
    "    pivot_wider(id_cols = go_bp, names_from = population, values_from = fdr) %>%\n",
    "    filter(European < 0.05 & Japanese < 0.05) %>%\n",
    "    select(go_bp, African, European, Japanese) %>%\n",
    "    arrange(African, European, Japanese) %>%\n",
    "    head(20)"
   ]
  },
  {
   "cell_type": "markdown",
   "metadata": {},
   "source": [
    "# Enriched CC"
   ]
  },
  {
   "cell_type": "code",
   "execution_count": 19,
   "metadata": {},
   "outputs": [
    {
     "name": "stderr",
     "output_type": "stream",
     "text": [
      "Parsed with column specification:\n",
      "cols(\n",
      "  `GO cellular component complete` = col_character(),\n",
      "  `Homo sapiens - REFLIST (20996)` = col_double(),\n",
      "  `GCST005047mapped.txt (33)` = col_double(),\n",
      "  `GCST005047mapped.txt (expected)` = col_double(),\n",
      "  `GCST005047mapped.txt (over/under)` = col_character(),\n",
      "  `GCST005047mapped.txt (fold Enrichment)` = col_character(),\n",
      "  `GCST005047mapped.txt (raw P-value)` = col_double(),\n",
      "  `GCST005047mapped.txt (FDR)` = col_double()\n",
      ")\n",
      "Parsed with column specification:\n",
      "cols(\n",
      "  `GO cellular component complete` = col_character(),\n",
      "  `Homo sapiens - REFLIST (20996)` = col_double(),\n",
      "  `GCST005047reported.txt (38)` = col_double(),\n",
      "  `GCST005047reported.txt (expected)` = col_double(),\n",
      "  `GCST005047reported.txt (over/under)` = col_character(),\n",
      "  `GCST005047reported.txt (fold Enrichment)` = col_character(),\n",
      "  `GCST005047reported.txt (raw P-value)` = col_double(),\n",
      "  `GCST005047reported.txt (FDR)` = col_double()\n",
      ")\n",
      "Parsed with column specification:\n",
      "cols(\n",
      "  `GO cellular component complete` = col_character(),\n",
      "  `Homo sapiens - REFLIST (20996)` = col_double(),\n",
      "  `GCST007847mapped.txt (106)` = col_double(),\n",
      "  `GCST007847mapped.txt (expected)` = col_double(),\n",
      "  `GCST007847mapped.txt (over/under)` = col_character(),\n",
      "  `GCST007847mapped.txt (fold Enrichment)` = col_character(),\n",
      "  `GCST007847mapped.txt (raw P-value)` = col_double(),\n",
      "  `GCST007847mapped.txt (FDR)` = col_double()\n",
      ")\n",
      "Parsed with column specification:\n",
      "cols(\n",
      "  `GO cellular component complete` = col_character(),\n",
      "  `Homo sapiens - REFLIST (20996)` = col_double(),\n",
      "  `GCST007847reported.txt (110)` = col_double(),\n",
      "  `GCST007847reported.txt (expected)` = col_double(),\n",
      "  `GCST007847reported.txt (over/under)` = col_character(),\n",
      "  `GCST007847reported.txt (fold Enrichment)` = col_character(),\n",
      "  `GCST007847reported.txt (raw P-value)` = col_double(),\n",
      "  `GCST007847reported.txt (FDR)` = col_double()\n",
      ")\n",
      "Parsed with column specification:\n",
      "cols(\n",
      "  `GO cellular component complete` = col_character(),\n",
      "  `Homo sapiens - REFLIST (20996)` = col_double(),\n",
      "  `GCST008114mapped.txt (2)` = col_double(),\n",
      "  `GCST008114mapped.txt (expected)` = col_double(),\n",
      "  `GCST008114mapped.txt (over/under)` = col_character(),\n",
      "  `GCST008114mapped.txt (fold Enrichment)` = col_character(),\n",
      "  `GCST008114mapped.txt (raw P-value)` = col_double(),\n",
      "  `GCST008114mapped.txt (FDR)` = col_double()\n",
      ")\n",
      "Parsed with column specification:\n",
      "cols(\n",
      "  `GO cellular component complete` = col_character(),\n",
      "  `Homo sapiens - REFLIST (20996)` = col_double(),\n",
      "  `GCST008114reported.txt (2)` = col_double(),\n",
      "  `GCST008114reported.txt (expected)` = col_double(),\n",
      "  `GCST008114reported.txt (over/under)` = col_character(),\n",
      "  `GCST008114reported.txt (fold Enrichment)` = col_character(),\n",
      "  `GCST008114reported.txt (raw P-value)` = col_double(),\n",
      "  `GCST008114reported.txt (FDR)` = col_double()\n",
      ")\n"
     ]
    }
   ],
   "source": [
    "filenames <- c('GCST005047mapped', 'GCST005047reported', 'GCST007847mapped', \n",
    "               'GCST007847reported', 'GCST008114mapped', 'GCST008114reported')\n",
    "\n",
    "cc_enrichment_df <- data.frame()\n",
    "\n",
    "# Iterate over the filenames and add formatted rows for each\n",
    "for (filename in filenames) {\n",
    "    cc_enrichment_df <- bind_rows(\n",
    "        cc_enrichment_df,\n",
    "        read_tsv(paste('../data/go_cc/', filename, '.txt', sep = ''), skip = 11) %>%\n",
    "            mutate(\n",
    "                study = str_extract(filename, '.+(?=mapped|reported)'),              \n",
    "                population = study %>% recode(\n",
    "                    'GCST008114' = 'African',\n",
    "                    'GCST005047' = 'European',\n",
    "                    'GCST007847' = 'Japanese'\n",
    "                ),\n",
    "                gene_type = str_extract(filename, 'mapped|reported'),\n",
    "                num_genes_input = colnames(.)[3] %>% str_extract('[0-9]+(?=\\\\)$)'),\n",
    "                num_genes_refset = colnames(.)[2] %>% str_extract('[0-9]+(?=\\\\)$)')\n",
    "            )  %>%\n",
    "            rename(\n",
    "                go_cc = colnames(.)[1],\n",
    "                cc_genes_refset = colnames(.)[2],\n",
    "                cc_genes_input = colnames(.)[3],\n",
    "                expected_genes = colnames(.)[4],\n",
    "                over_under = colnames(.)[5],\n",
    "                fold_enrichment = colnames(.)[6],\n",
    "                raw_p_value = colnames(.)[7],\n",
    "                fdr = colnames(.)[8],\n",
    "            )\n",
    "    )\n",
    "}"
   ]
  },
  {
   "cell_type": "code",
   "execution_count": 20,
   "metadata": {},
   "outputs": [
    {
     "data": {
      "text/html": [
       "<table>\n",
       "<caption>A tibble: 8 × 4</caption>\n",
       "<thead>\n",
       "\t<tr><th scope=col>go_cc</th><th scope=col>African</th><th scope=col>European</th><th scope=col>Japanese</th></tr>\n",
       "\t<tr><th scope=col>&lt;chr&gt;</th><th scope=col>&lt;dbl&gt;</th><th scope=col>&lt;dbl&gt;</th><th scope=col>&lt;dbl&gt;</th></tr>\n",
       "</thead>\n",
       "<tbody>\n",
       "\t<tr><td>intracellular membrane-bounded organelle (GO:0043231)</td><td>1</td><td>1</td><td>0.000232</td></tr>\n",
       "\t<tr><td>membrane-bounded organelle (GO:0043227)              </td><td>1</td><td>1</td><td>0.000272</td></tr>\n",
       "\t<tr><td>organelle (GO:0043226)                               </td><td>1</td><td>1</td><td>0.000961</td></tr>\n",
       "\t<tr><td>intracellular organelle (GO:0043229)                 </td><td>1</td><td>1</td><td>0.001460</td></tr>\n",
       "\t<tr><td>nucleus (GO:0005634)                                 </td><td>1</td><td>1</td><td>0.002260</td></tr>\n",
       "\t<tr><td>nuclear chromatin (GO:0000790)                       </td><td>1</td><td>1</td><td>0.009910</td></tr>\n",
       "\t<tr><td>chromatin (GO:0000785)                               </td><td>1</td><td>1</td><td>0.017800</td></tr>\n",
       "\t<tr><td>intracellular (GO:0005622)                           </td><td>1</td><td>1</td><td>0.027700</td></tr>\n",
       "</tbody>\n",
       "</table>\n"
      ],
      "text/latex": [
       "A tibble: 8 × 4\n",
       "\\begin{tabular}{r|llll}\n",
       " go\\_cc & African & European & Japanese\\\\\n",
       " <chr> & <dbl> & <dbl> & <dbl>\\\\\n",
       "\\hline\n",
       "\t intracellular membrane-bounded organelle (GO:0043231) & 1 & 1 & 0.000232\\\\\n",
       "\t membrane-bounded organelle (GO:0043227)               & 1 & 1 & 0.000272\\\\\n",
       "\t organelle (GO:0043226)                                & 1 & 1 & 0.000961\\\\\n",
       "\t intracellular organelle (GO:0043229)                  & 1 & 1 & 0.001460\\\\\n",
       "\t nucleus (GO:0005634)                                  & 1 & 1 & 0.002260\\\\\n",
       "\t nuclear chromatin (GO:0000790)                        & 1 & 1 & 0.009910\\\\\n",
       "\t chromatin (GO:0000785)                                & 1 & 1 & 0.017800\\\\\n",
       "\t intracellular (GO:0005622)                            & 1 & 1 & 0.027700\\\\\n",
       "\\end{tabular}\n"
      ],
      "text/markdown": [
       "\n",
       "A tibble: 8 × 4\n",
       "\n",
       "| go_cc &lt;chr&gt; | African &lt;dbl&gt; | European &lt;dbl&gt; | Japanese &lt;dbl&gt; |\n",
       "|---|---|---|---|\n",
       "| intracellular membrane-bounded organelle (GO:0043231) | 1 | 1 | 0.000232 |\n",
       "| membrane-bounded organelle (GO:0043227)               | 1 | 1 | 0.000272 |\n",
       "| organelle (GO:0043226)                                | 1 | 1 | 0.000961 |\n",
       "| intracellular organelle (GO:0043229)                  | 1 | 1 | 0.001460 |\n",
       "| nucleus (GO:0005634)                                  | 1 | 1 | 0.002260 |\n",
       "| nuclear chromatin (GO:0000790)                        | 1 | 1 | 0.009910 |\n",
       "| chromatin (GO:0000785)                                | 1 | 1 | 0.017800 |\n",
       "| intracellular (GO:0005622)                            | 1 | 1 | 0.027700 |\n",
       "\n"
      ],
      "text/plain": [
       "  go_cc                                                 African European\n",
       "1 intracellular membrane-bounded organelle (GO:0043231) 1       1       \n",
       "2 membrane-bounded organelle (GO:0043227)               1       1       \n",
       "3 organelle (GO:0043226)                                1       1       \n",
       "4 intracellular organelle (GO:0043229)                  1       1       \n",
       "5 nucleus (GO:0005634)                                  1       1       \n",
       "6 nuclear chromatin (GO:0000790)                        1       1       \n",
       "7 chromatin (GO:0000785)                                1       1       \n",
       "8 intracellular (GO:0005622)                            1       1       \n",
       "  Japanese\n",
       "1 0.000232\n",
       "2 0.000272\n",
       "3 0.000961\n",
       "4 0.001460\n",
       "5 0.002260\n",
       "6 0.009910\n",
       "7 0.017800\n",
       "8 0.027700"
      ]
     },
     "metadata": {},
     "output_type": "display_data"
    }
   ],
   "source": [
    "# Enriched in reported genes\n",
    "cc_enrichment_df %>%\n",
    "    filter(gene_type == 'reported') %>%\n",
    "    select(go_cc, population, fdr) %>%\n",
    "    distinct() %>%\n",
    "    pivot_wider(id_cols = go_cc, names_from = population, values_from = fdr) %>%\n",
    "    filter(European < 0.05 | Japanese < 0.05 | African < 0.05) %>%\n",
    "    select(go_cc, African, European, Japanese) %>%\n",
    "    arrange(African, European, Japanese) %>%\n",
    "    head(20)"
   ]
  },
  {
   "cell_type": "markdown",
   "metadata": {},
   "source": [
    "# Enriched Molecular Functions"
   ]
  },
  {
   "cell_type": "code",
   "execution_count": 21,
   "metadata": {},
   "outputs": [
    {
     "name": "stderr",
     "output_type": "stream",
     "text": [
      "Parsed with column specification:\n",
      "cols(\n",
      "  `GO molecular function complete` = col_character(),\n",
      "  `Homo sapiens - REFLIST (20996)` = col_double(),\n",
      "  `GCST005047mapped.txt (33)` = col_double(),\n",
      "  `GCST005047mapped.txt (expected)` = col_double(),\n",
      "  `GCST005047mapped.txt (over/under)` = col_character(),\n",
      "  `GCST005047mapped.txt (fold Enrichment)` = col_character(),\n",
      "  `GCST005047mapped.txt (raw P-value)` = col_double(),\n",
      "  `GCST005047mapped.txt (FDR)` = col_double()\n",
      ")\n",
      "Parsed with column specification:\n",
      "cols(\n",
      "  `GO molecular function complete` = col_character(),\n",
      "  `Homo sapiens - REFLIST (20996)` = col_double(),\n",
      "  `GCST005047reported.txt (38)` = col_double(),\n",
      "  `GCST005047reported.txt (expected)` = col_double(),\n",
      "  `GCST005047reported.txt (over/under)` = col_character(),\n",
      "  `GCST005047reported.txt (fold Enrichment)` = col_character(),\n",
      "  `GCST005047reported.txt (raw P-value)` = col_double(),\n",
      "  `GCST005047reported.txt (FDR)` = col_double()\n",
      ")\n",
      "Parsed with column specification:\n",
      "cols(\n",
      "  `GO molecular function complete` = col_character(),\n",
      "  `Homo sapiens - REFLIST (20996)` = col_double(),\n",
      "  `GCST007847mapped.txt (106)` = col_double(),\n",
      "  `GCST007847mapped.txt (expected)` = col_double(),\n",
      "  `GCST007847mapped.txt (over/under)` = col_character(),\n",
      "  `GCST007847mapped.txt (fold Enrichment)` = col_character(),\n",
      "  `GCST007847mapped.txt (raw P-value)` = col_double(),\n",
      "  `GCST007847mapped.txt (FDR)` = col_double()\n",
      ")\n",
      "Parsed with column specification:\n",
      "cols(\n",
      "  `GO molecular function complete` = col_character(),\n",
      "  `Homo sapiens - REFLIST (20996)` = col_double(),\n",
      "  `GCST007847reported.txt (110)` = col_double(),\n",
      "  `GCST007847reported.txt (expected)` = col_double(),\n",
      "  `GCST007847reported.txt (over/under)` = col_character(),\n",
      "  `GCST007847reported.txt (fold Enrichment)` = col_character(),\n",
      "  `GCST007847reported.txt (raw P-value)` = col_double(),\n",
      "  `GCST007847reported.txt (FDR)` = col_double()\n",
      ")\n",
      "Parsed with column specification:\n",
      "cols(\n",
      "  `GO molecular function complete` = col_character(),\n",
      "  `Homo sapiens - REFLIST (20996)` = col_double(),\n",
      "  `GCST008114mapped.txt (2)` = col_double(),\n",
      "  `GCST008114mapped.txt (expected)` = col_double(),\n",
      "  `GCST008114mapped.txt (over/under)` = col_character(),\n",
      "  `GCST008114mapped.txt (fold Enrichment)` = col_character(),\n",
      "  `GCST008114mapped.txt (raw P-value)` = col_double(),\n",
      "  `GCST008114mapped.txt (FDR)` = col_double()\n",
      ")\n",
      "Parsed with column specification:\n",
      "cols(\n",
      "  `GO molecular function complete` = col_character(),\n",
      "  `Homo sapiens - REFLIST (20996)` = col_double(),\n",
      "  `GCST008114reported.txt (2)` = col_double(),\n",
      "  `GCST008114reported.txt (expected)` = col_double(),\n",
      "  `GCST008114reported.txt (over/under)` = col_character(),\n",
      "  `GCST008114reported.txt (fold Enrichment)` = col_character(),\n",
      "  `GCST008114reported.txt (raw P-value)` = col_double(),\n",
      "  `GCST008114reported.txt (FDR)` = col_double()\n",
      ")\n"
     ]
    }
   ],
   "source": [
    "filenames <- c('GCST005047mapped', 'GCST005047reported', 'GCST007847mapped', \n",
    "              'GCST007847reported', 'GCST008114mapped', 'GCST008114reported')\n",
    "\n",
    "mf_enrichment_df <- data.frame()\n",
    "\n",
    "# Iterate over the filenames and add formatted rows for each\n",
    "for (filename in filenames) {\n",
    "    mf_enrichment_df <- bind_rows(\n",
    "        mf_enrichment_df,\n",
    "        read_tsv(paste('../data/go_mf/', filename, '.txt', sep = ''), skip = 11) %>%\n",
    "            mutate(\n",
    "                study = str_extract(filename, '.+(?=mapped|reported)'),              \n",
    "                population = study %>% recode(\n",
    "                    'GCST008114' = 'African',\n",
    "                    'GCST005047' = 'European',\n",
    "                    'GCST007847' = 'Japanese'\n",
    "                ),\n",
    "                gene_type = str_extract(filename, 'mapped|reported'),\n",
    "                num_genes_input = colnames(.)[3] %>% str_extract('[0-9]+(?=\\\\)$)'),\n",
    "                num_genes_refset = colnames(.)[2] %>% str_extract('[0-9]+(?=\\\\)$)')\n",
    "            )  %>%\n",
    "            rename(\n",
    "                go_mf = colnames(.)[1],\n",
    "                mf_genes_refset = colnames(.)[2],\n",
    "                mf_genes_input = colnames(.)[3],\n",
    "                expected_genes = colnames(.)[4],\n",
    "                over_under = colnames(.)[5],\n",
    "                fold_enrichment = colnames(.)[6],\n",
    "                raw_p_value = colnames(.)[7],\n",
    "                fdr = colnames(.)[8],\n",
    "            )\n",
    "    )\n",
    "}"
   ]
  },
  {
   "cell_type": "code",
   "execution_count": 22,
   "metadata": {},
   "outputs": [
    {
     "data": {
      "text/html": [
       "<table>\n",
       "<caption>A tibble: 15 × 4</caption>\n",
       "<thead>\n",
       "\t<tr><th scope=col>go_mf</th><th scope=col>African</th><th scope=col>European</th><th scope=col>Japanese</th></tr>\n",
       "\t<tr><th scope=col>&lt;chr&gt;</th><th scope=col>&lt;dbl&gt;</th><th scope=col>&lt;dbl&gt;</th><th scope=col>&lt;dbl&gt;</th></tr>\n",
       "</thead>\n",
       "<tbody>\n",
       "\t<tr><td>DNA-binding transcription factor activity, RNA polymerase II-specific (GO:0000981)   </td><td>1</td><td>0.0619</td><td>0.0128</td></tr>\n",
       "\t<tr><td>DNA-binding transcription factor activity (GO:0003700)                               </td><td>1</td><td>0.0631</td><td>0.0133</td></tr>\n",
       "\t<tr><td>proximal promoter sequence-specific DNA binding (GO:0000987)                         </td><td>1</td><td>0.0714</td><td>0.0413</td></tr>\n",
       "\t<tr><td>DNA-binding transcription repressor activity (GO:0001217)                            </td><td>1</td><td>0.0767</td><td>0.0363</td></tr>\n",
       "\t<tr><td>kinase binding (GO:0019900)                                                          </td><td>1</td><td>0.0781</td><td>0.0453</td></tr>\n",
       "\t<tr><td>transcription regulator activity (GO:0140110)                                        </td><td>1</td><td>0.0908</td><td>0.0479</td></tr>\n",
       "\t<tr><td>DNA-binding transcription repressor activity, RNA polymerase II-specific (GO:0001227)</td><td>1</td><td>0.0920</td><td>0.0409</td></tr>\n",
       "\t<tr><td>transcription factor binding (GO:0008134)                                            </td><td>1</td><td>0.0935</td><td>0.0214</td></tr>\n",
       "\t<tr><td>DNA-binding transcription factor binding (GO:0140297)                                </td><td>1</td><td>0.1570</td><td>0.0478</td></tr>\n",
       "\t<tr><td>transcription regulatory region sequence-specific DNA binding (GO:0000976)           </td><td>1</td><td>0.1970</td><td>0.0365</td></tr>\n",
       "\t<tr><td>sequence-specific double-stranded DNA binding (GO:1990837)                           </td><td>1</td><td>0.2530</td><td>0.0391</td></tr>\n",
       "\t<tr><td>regulatory region nucleic acid binding (GO:0001067)                                  </td><td>1</td><td>0.3280</td><td>0.0472</td></tr>\n",
       "\t<tr><td>transcription regulatory region DNA binding (GO:0044212)                             </td><td>1</td><td>0.3400</td><td>0.0492</td></tr>\n",
       "\t<tr><td>sequence-specific DNA binding (GO:0043565)                                           </td><td>1</td><td>0.5460</td><td>0.0447</td></tr>\n",
       "\t<tr><td>kinase regulator activity (GO:0019207)                                               </td><td>1</td><td>1.0000</td><td>0.0487</td></tr>\n",
       "</tbody>\n",
       "</table>\n"
      ],
      "text/latex": [
       "A tibble: 15 × 4\n",
       "\\begin{tabular}{r|llll}\n",
       " go\\_mf & African & European & Japanese\\\\\n",
       " <chr> & <dbl> & <dbl> & <dbl>\\\\\n",
       "\\hline\n",
       "\t DNA-binding transcription factor activity, RNA polymerase II-specific (GO:0000981)    & 1 & 0.0619 & 0.0128\\\\\n",
       "\t DNA-binding transcription factor activity (GO:0003700)                                & 1 & 0.0631 & 0.0133\\\\\n",
       "\t proximal promoter sequence-specific DNA binding (GO:0000987)                          & 1 & 0.0714 & 0.0413\\\\\n",
       "\t DNA-binding transcription repressor activity (GO:0001217)                             & 1 & 0.0767 & 0.0363\\\\\n",
       "\t kinase binding (GO:0019900)                                                           & 1 & 0.0781 & 0.0453\\\\\n",
       "\t transcription regulator activity (GO:0140110)                                         & 1 & 0.0908 & 0.0479\\\\\n",
       "\t DNA-binding transcription repressor activity, RNA polymerase II-specific (GO:0001227) & 1 & 0.0920 & 0.0409\\\\\n",
       "\t transcription factor binding (GO:0008134)                                             & 1 & 0.0935 & 0.0214\\\\\n",
       "\t DNA-binding transcription factor binding (GO:0140297)                                 & 1 & 0.1570 & 0.0478\\\\\n",
       "\t transcription regulatory region sequence-specific DNA binding (GO:0000976)            & 1 & 0.1970 & 0.0365\\\\\n",
       "\t sequence-specific double-stranded DNA binding (GO:1990837)                            & 1 & 0.2530 & 0.0391\\\\\n",
       "\t regulatory region nucleic acid binding (GO:0001067)                                   & 1 & 0.3280 & 0.0472\\\\\n",
       "\t transcription regulatory region DNA binding (GO:0044212)                              & 1 & 0.3400 & 0.0492\\\\\n",
       "\t sequence-specific DNA binding (GO:0043565)                                            & 1 & 0.5460 & 0.0447\\\\\n",
       "\t kinase regulator activity (GO:0019207)                                                & 1 & 1.0000 & 0.0487\\\\\n",
       "\\end{tabular}\n"
      ],
      "text/markdown": [
       "\n",
       "A tibble: 15 × 4\n",
       "\n",
       "| go_mf &lt;chr&gt; | African &lt;dbl&gt; | European &lt;dbl&gt; | Japanese &lt;dbl&gt; |\n",
       "|---|---|---|---|\n",
       "| DNA-binding transcription factor activity, RNA polymerase II-specific (GO:0000981)    | 1 | 0.0619 | 0.0128 |\n",
       "| DNA-binding transcription factor activity (GO:0003700)                                | 1 | 0.0631 | 0.0133 |\n",
       "| proximal promoter sequence-specific DNA binding (GO:0000987)                          | 1 | 0.0714 | 0.0413 |\n",
       "| DNA-binding transcription repressor activity (GO:0001217)                             | 1 | 0.0767 | 0.0363 |\n",
       "| kinase binding (GO:0019900)                                                           | 1 | 0.0781 | 0.0453 |\n",
       "| transcription regulator activity (GO:0140110)                                         | 1 | 0.0908 | 0.0479 |\n",
       "| DNA-binding transcription repressor activity, RNA polymerase II-specific (GO:0001227) | 1 | 0.0920 | 0.0409 |\n",
       "| transcription factor binding (GO:0008134)                                             | 1 | 0.0935 | 0.0214 |\n",
       "| DNA-binding transcription factor binding (GO:0140297)                                 | 1 | 0.1570 | 0.0478 |\n",
       "| transcription regulatory region sequence-specific DNA binding (GO:0000976)            | 1 | 0.1970 | 0.0365 |\n",
       "| sequence-specific double-stranded DNA binding (GO:1990837)                            | 1 | 0.2530 | 0.0391 |\n",
       "| regulatory region nucleic acid binding (GO:0001067)                                   | 1 | 0.3280 | 0.0472 |\n",
       "| transcription regulatory region DNA binding (GO:0044212)                              | 1 | 0.3400 | 0.0492 |\n",
       "| sequence-specific DNA binding (GO:0043565)                                            | 1 | 0.5460 | 0.0447 |\n",
       "| kinase regulator activity (GO:0019207)                                                | 1 | 1.0000 | 0.0487 |\n",
       "\n"
      ],
      "text/plain": [
       "   go_mf                                                                                \n",
       "1  DNA-binding transcription factor activity, RNA polymerase II-specific (GO:0000981)   \n",
       "2  DNA-binding transcription factor activity (GO:0003700)                               \n",
       "3  proximal promoter sequence-specific DNA binding (GO:0000987)                         \n",
       "4  DNA-binding transcription repressor activity (GO:0001217)                            \n",
       "5  kinase binding (GO:0019900)                                                          \n",
       "6  transcription regulator activity (GO:0140110)                                        \n",
       "7  DNA-binding transcription repressor activity, RNA polymerase II-specific (GO:0001227)\n",
       "8  transcription factor binding (GO:0008134)                                            \n",
       "9  DNA-binding transcription factor binding (GO:0140297)                                \n",
       "10 transcription regulatory region sequence-specific DNA binding (GO:0000976)           \n",
       "11 sequence-specific double-stranded DNA binding (GO:1990837)                           \n",
       "12 regulatory region nucleic acid binding (GO:0001067)                                  \n",
       "13 transcription regulatory region DNA binding (GO:0044212)                             \n",
       "14 sequence-specific DNA binding (GO:0043565)                                           \n",
       "15 kinase regulator activity (GO:0019207)                                               \n",
       "   African European Japanese\n",
       "1  1       0.0619   0.0128  \n",
       "2  1       0.0631   0.0133  \n",
       "3  1       0.0714   0.0413  \n",
       "4  1       0.0767   0.0363  \n",
       "5  1       0.0781   0.0453  \n",
       "6  1       0.0908   0.0479  \n",
       "7  1       0.0920   0.0409  \n",
       "8  1       0.0935   0.0214  \n",
       "9  1       0.1570   0.0478  \n",
       "10 1       0.1970   0.0365  \n",
       "11 1       0.2530   0.0391  \n",
       "12 1       0.3280   0.0472  \n",
       "13 1       0.3400   0.0492  \n",
       "14 1       0.5460   0.0447  \n",
       "15 1       1.0000   0.0487  "
      ]
     },
     "metadata": {},
     "output_type": "display_data"
    }
   ],
   "source": [
    "# Enriched in reported genes\n",
    "mf_enrichment_df %>%\n",
    "    filter(gene_type == 'reported') %>%\n",
    "    select(go_mf, population, fdr) %>%\n",
    "    distinct() %>%\n",
    "    pivot_wider(id_cols = go_mf, names_from = population, values_from = fdr) %>%\n",
    "    filter(European < 0.05 | Japanese < 0.05 | African < 0.05) %>%\n",
    "    select(go_mf, African, European, Japanese) %>%\n",
    "    arrange(African, European, Japanese) %>%\n",
    "    head(20)"
   ]
  },
  {
   "cell_type": "markdown",
   "metadata": {},
   "source": [
    "# Enriched Reactome pathways"
   ]
  },
  {
   "cell_type": "code",
   "execution_count": 23,
   "metadata": {},
   "outputs": [
    {
     "name": "stderr",
     "output_type": "stream",
     "text": [
      "Parsed with column specification:\n",
      "cols(\n",
      "  `Reactome pathways` = col_character(),\n",
      "  `Homo sapiens - REFLIST (20996)` = col_double(),\n",
      "  `GCST005047mapped.txt (33)` = col_double(),\n",
      "  `GCST005047mapped.txt (expected)` = col_double(),\n",
      "  `GCST005047mapped.txt (over/under)` = col_character(),\n",
      "  `GCST005047mapped.txt (fold Enrichment)` = col_character(),\n",
      "  `GCST005047mapped.txt (raw P-value)` = col_double(),\n",
      "  `GCST005047mapped.txt (FDR)` = col_double()\n",
      ")\n",
      "Parsed with column specification:\n",
      "cols(\n",
      "  `Reactome pathways` = col_character(),\n",
      "  `Homo sapiens - REFLIST (20996)` = col_double(),\n",
      "  `GCST005047reported.txt (38)` = col_double(),\n",
      "  `GCST005047reported.txt (expected)` = col_double(),\n",
      "  `GCST005047reported.txt (over/under)` = col_character(),\n",
      "  `GCST005047reported.txt (fold Enrichment)` = col_character(),\n",
      "  `GCST005047reported.txt (raw P-value)` = col_double(),\n",
      "  `GCST005047reported.txt (FDR)` = col_double()\n",
      ")\n",
      "Parsed with column specification:\n",
      "cols(\n",
      "  `Reactome pathways` = col_character(),\n",
      "  `Homo sapiens - REFLIST (20996)` = col_double(),\n",
      "  `GCST007847mapped.txt (106)` = col_double(),\n",
      "  `GCST007847mapped.txt (expected)` = col_double(),\n",
      "  `GCST007847mapped.txt (over/under)` = col_character(),\n",
      "  `GCST007847mapped.txt (fold Enrichment)` = col_character(),\n",
      "  `GCST007847mapped.txt (raw P-value)` = col_double(),\n",
      "  `GCST007847mapped.txt (FDR)` = col_double()\n",
      ")\n",
      "Parsed with column specification:\n",
      "cols(\n",
      "  `Reactome pathways` = col_character(),\n",
      "  `Homo sapiens - REFLIST (20996)` = col_double(),\n",
      "  `GCST007847reported.txt (110)` = col_double(),\n",
      "  `GCST007847reported.txt (expected)` = col_double(),\n",
      "  `GCST007847reported.txt (over/under)` = col_character(),\n",
      "  `GCST007847reported.txt (fold Enrichment)` = col_character(),\n",
      "  `GCST007847reported.txt (raw P-value)` = col_double(),\n",
      "  `GCST007847reported.txt (FDR)` = col_double()\n",
      ")\n",
      "Parsed with column specification:\n",
      "cols(\n",
      "  `Reactome pathways` = col_character(),\n",
      "  `Homo sapiens - REFLIST (20996)` = col_double(),\n",
      "  `GCST008114mapped.txt (2)` = col_double(),\n",
      "  `GCST008114mapped.txt (expected)` = col_double(),\n",
      "  `GCST008114mapped.txt (over/under)` = col_character(),\n",
      "  `GCST008114mapped.txt (fold Enrichment)` = col_character(),\n",
      "  `GCST008114mapped.txt (raw P-value)` = col_double(),\n",
      "  `GCST008114mapped.txt (FDR)` = col_double()\n",
      ")\n",
      "Parsed with column specification:\n",
      "cols(\n",
      "  `Reactome pathways` = col_character(),\n",
      "  `Homo sapiens - REFLIST (20996)` = col_double(),\n",
      "  `GCST008114reported.txt (2)` = col_double(),\n",
      "  `GCST008114reported.txt (expected)` = col_double(),\n",
      "  `GCST008114reported.txt (over/under)` = col_character(),\n",
      "  `GCST008114reported.txt (fold Enrichment)` = col_character(),\n",
      "  `GCST008114reported.txt (raw P-value)` = col_double(),\n",
      "  `GCST008114reported.txt (FDR)` = col_double()\n",
      ")\n"
     ]
    }
   ],
   "source": [
    "filenames <- c('GCST005047mapped', 'GCST005047reported', 'GCST007847mapped', \n",
    "              'GCST007847reported', 'GCST008114mapped', 'GCST008114reported')\n",
    "\n",
    "re_enrichment_df <- data.frame()\n",
    "\n",
    "# Iterate over the filenames and add formatted rows for each\n",
    "for (filename in filenames) {\n",
    "    re_enrichment_df <- bind_rows(\n",
    "        re_enrichment_df,\n",
    "        read_tsv(paste('../data/reactome/', filename, '.txt', sep = ''), skip = 11) %>%\n",
    "            mutate(\n",
    "                study = str_extract(filename, '.+(?=mapped|reported)'),              \n",
    "                population = study %>% recode(\n",
    "                    'GCST008114' = 'African',\n",
    "                    'GCST005047' = 'European',\n",
    "                    'GCST007847' = 'Japanese'\n",
    "                ),\n",
    "                gene_type = str_extract(filename, 'mapped|reported'),\n",
    "                num_genes_input = colnames(.)[3] %>% str_extract('[0-9]+(?=\\\\)$)'),\n",
    "                num_genes_refset = colnames(.)[2] %>% str_extract('[0-9]+(?=\\\\)$)')\n",
    "            )  %>%\n",
    "            rename(\n",
    "                pathway = colnames(.)[1],\n",
    "                re_genes_refset = colnames(.)[2],\n",
    "                re_genes_input = colnames(.)[3],\n",
    "                expected_genes = colnames(.)[4],\n",
    "                over_under = colnames(.)[5],\n",
    "                fold_enrichment = colnames(.)[6],\n",
    "                raw_p_value = colnames(.)[7],\n",
    "                fdr = colnames(.)[8],\n",
    "            )\n",
    "    )\n",
    "}"
   ]
  },
  {
   "cell_type": "code",
   "execution_count": 24,
   "metadata": {},
   "outputs": [
    {
     "data": {
      "text/html": [
       "<table>\n",
       "<caption>A tibble: 2 × 4</caption>\n",
       "<thead>\n",
       "\t<tr><th scope=col>pathway</th><th scope=col>African</th><th scope=col>European</th><th scope=col>Japanese</th></tr>\n",
       "\t<tr><th scope=col>&lt;chr&gt;</th><th scope=col>&lt;dbl&gt;</th><th scope=col>&lt;dbl&gt;</th><th scope=col>&lt;dbl&gt;</th></tr>\n",
       "</thead>\n",
       "<tbody>\n",
       "\t<tr><td>Regulation of beta-cell development (R-HSA-186712)        </td><td>1</td><td>1</td><td>0.000264</td></tr>\n",
       "\t<tr><td>Regulation of gene expression in beta cells (R-HSA-210745)</td><td>1</td><td>1</td><td>0.006280</td></tr>\n",
       "</tbody>\n",
       "</table>\n"
      ],
      "text/latex": [
       "A tibble: 2 × 4\n",
       "\\begin{tabular}{r|llll}\n",
       " pathway & African & European & Japanese\\\\\n",
       " <chr> & <dbl> & <dbl> & <dbl>\\\\\n",
       "\\hline\n",
       "\t Regulation of beta-cell development (R-HSA-186712)         & 1 & 1 & 0.000264\\\\\n",
       "\t Regulation of gene expression in beta cells (R-HSA-210745) & 1 & 1 & 0.006280\\\\\n",
       "\\end{tabular}\n"
      ],
      "text/markdown": [
       "\n",
       "A tibble: 2 × 4\n",
       "\n",
       "| pathway &lt;chr&gt; | African &lt;dbl&gt; | European &lt;dbl&gt; | Japanese &lt;dbl&gt; |\n",
       "|---|---|---|---|\n",
       "| Regulation of beta-cell development (R-HSA-186712)         | 1 | 1 | 0.000264 |\n",
       "| Regulation of gene expression in beta cells (R-HSA-210745) | 1 | 1 | 0.006280 |\n",
       "\n"
      ],
      "text/plain": [
       "  pathway                                                    African European\n",
       "1 Regulation of beta-cell development (R-HSA-186712)         1       1       \n",
       "2 Regulation of gene expression in beta cells (R-HSA-210745) 1       1       \n",
       "  Japanese\n",
       "1 0.000264\n",
       "2 0.006280"
      ]
     },
     "metadata": {},
     "output_type": "display_data"
    }
   ],
   "source": [
    "# Enriched in reported genes\n",
    "re_enrichment_df %>%\n",
    "    filter(gene_type == 'reported') %>%\n",
    "    select(pathway, population, fdr) %>%\n",
    "    distinct() %>%\n",
    "    pivot_wider(id_cols = pathway, names_from = population, values_from = fdr) %>%\n",
    "    filter(European < 0.05 | Japanese < 0.05 | African < 0.05) %>%\n",
    "    select(pathway, African, European, Japanese) %>%\n",
    "    arrange(African, European, Japanese) %>%\n",
    "    head(20)"
   ]
  },
  {
   "cell_type": "markdown",
   "metadata": {},
   "source": [
    "# Venn diagrams"
   ]
  },
  {
   "cell_type": "code",
   "execution_count": 25,
   "metadata": {},
   "outputs": [],
   "source": [
    "make_venn <- function(venn_df, colname, filename, pos, dist) {\n",
    "    myCol <- brewer.pal(3, \"Pastel2\")\n",
    "    \n",
    "    venn_df <- venn_df %>%\n",
    "    mutate(\n",
    "        population = study %>% recode(\n",
    "            'GCST008114' = 'African',\n",
    "            'GCST005047' = 'European',\n",
    "            'GCST007847' = 'Japanese'\n",
    "        )\n",
    "    )\n",
    "    \n",
    "    venn.diagram(\n",
    "        x = list(\n",
    "            venn_df %>% filter(population == 'African') %>% pull(colname),\n",
    "            venn_df %>% filter(population == 'European') %>% pull(colname),\n",
    "            venn_df %>% filter(population == 'Japanese') %>% pull(colname)\n",
    "        ),\n",
    "        category.names = c(\"African\" , \"European \" , \"Japanese\"),\n",
    "        filename = filename,\n",
    "        output=T,\n",
    "        imagetype=\"png\",\n",
    "\n",
    "        # Circles\n",
    "        lwd = 2,\n",
    "    #     lty = 'blank',\n",
    "        fill = myCol,\n",
    "\n",
    "        # Numbers\n",
    "        cex = 1.6,\n",
    "        fontface = \"bold\",\n",
    "        fontfamily = \"sans\",\n",
    "\n",
    "        # Set names\n",
    "        cat.cex = 1.5,\n",
    "        cat.fontface = \"bold\",\n",
    "        cat.default.pos = \"text\",\n",
    "        cat.pos = pos,\n",
    "        cat.dist = dist,\n",
    "        cat.fontfamily = \"sans\",\n",
    "        rotation = 1,\n",
    "        ext.text = T,\n",
    "\n",
    "        margin = 0\n",
    "    )\n",
    "}"
   ]
  },
  {
   "cell_type": "code",
   "execution_count": 26,
   "metadata": {},
   "outputs": [
    {
     "data": {
      "text/html": [
       "1"
      ],
      "text/latex": [
       "1"
      ],
      "text/markdown": [
       "1"
      ],
      "text/plain": [
       "[1] 1"
      ]
     },
     "metadata": {},
     "output_type": "display_data"
    },
    {
     "data": {
      "text/html": [
       "1"
      ],
      "text/latex": [
       "1"
      ],
      "text/markdown": [
       "1"
      ],
      "text/plain": [
       "[1] 1"
      ]
     },
     "metadata": {},
     "output_type": "display_data"
    }
   ],
   "source": [
    "pos <- c(25, 0, -25)\n",
    "dist <- c(0.15, 0.15, 0.15)\n",
    "\n",
    "make_venn(snp_df, 'SNP_ID_CURRENT', '../img/snp_id.png', pos, dist)\n",
    "\n",
    "make_venn(id_pos_df %>% unite('position', c(CHR_ID, CHR_POS)), 'position', \n",
    "          '../img/snp_position.png', pos, dist)"
   ]
  },
  {
   "cell_type": "code",
   "execution_count": 27,
   "metadata": {},
   "outputs": [
    {
     "data": {
      "text/html": [
       "1"
      ],
      "text/latex": [
       "1"
      ],
      "text/markdown": [
       "1"
      ],
      "text/plain": [
       "[1] 1"
      ]
     },
     "metadata": {},
     "output_type": "display_data"
    }
   ],
   "source": [
    "pos <- c(0, 0, 0)\n",
    "dist <- c(0.08, 0.15, 0.15)\n",
    "\n",
    "make_venn(cyto_df, 'REGION', '../img/cytogenetic_region.png', pos, dist)"
   ]
  },
  {
   "cell_type": "code",
   "execution_count": 28,
   "metadata": {},
   "outputs": [
    {
     "data": {
      "text/html": [
       "1"
      ],
      "text/latex": [
       "1"
      ],
      "text/markdown": [
       "1"
      ],
      "text/plain": [
       "[1] 1"
      ]
     },
     "metadata": {},
     "output_type": "display_data"
    }
   ],
   "source": [
    "pos <- c(10, -10, 180)\n",
    "dist <- c(0.05, 0.05, 0.05)\n",
    "\n",
    "make_venn(gene_df, 'MAPPED_GENE', '../img/mapped_gene.png', pos, dist)"
   ]
  },
  {
   "cell_type": "code",
   "execution_count": 29,
   "metadata": {},
   "outputs": [
    {
     "data": {
      "text/html": [
       "1"
      ],
      "text/latex": [
       "1"
      ],
      "text/markdown": [
       "1"
      ],
      "text/plain": [
       "[1] 1"
      ]
     },
     "metadata": {},
     "output_type": "display_data"
    }
   ],
   "source": [
    "pos <- c(10, -10, 180)\n",
    "dist <- c(0.05, 0.05, 0.05)\n",
    "\n",
    "make_venn(rep_gene_df, 'gene', '../img/reported_gene.png', pos, dist)"
   ]
  },
  {
   "cell_type": "code",
   "execution_count": 30,
   "metadata": {
    "scrolled": true
   },
   "outputs": [
    {
     "data": {
      "text/html": [
       "1"
      ],
      "text/latex": [
       "1"
      ],
      "text/markdown": [
       "1"
      ],
      "text/plain": [
       "[1] 1"
      ]
     },
     "metadata": {},
     "output_type": "display_data"
    }
   ],
   "source": [
    "pos <- c(10, -10, 180)\n",
    "dist <- c(0.05, 0.05, 0.05)\n",
    "\n",
    "make_venn(\n",
    "    enrichment_df %>%\n",
    "        filter(fdr < 0.05 & gene_type == 'reported') %>%\n",
    "        select(go_bp, study),\n",
    "    'go_bp', '../img/reported_gene_biological_process.png', pos, dist)"
   ]
  },
  {
   "cell_type": "code",
   "execution_count": 31,
   "metadata": {
    "scrolled": true
   },
   "outputs": [
    {
     "data": {
      "text/html": [
       "1"
      ],
      "text/latex": [
       "1"
      ],
      "text/markdown": [
       "1"
      ],
      "text/plain": [
       "[1] 1"
      ]
     },
     "metadata": {},
     "output_type": "display_data"
    }
   ],
   "source": [
    "pos <- c(10, -10, 180)\n",
    "dist <- c(0.05, 0.05, 0.05)\n",
    "\n",
    "make_venn(\n",
    "    enrichment_df %>%\n",
    "        filter(fdr < 0.05 & gene_type == 'mapped') %>%\n",
    "        select(go_bp, study),\n",
    "    'go_bp', '../img/mapped_gene_biological_process.png', pos, dist)"
   ]
  },
  {
   "cell_type": "code",
   "execution_count": 32,
   "metadata": {
    "scrolled": true
   },
   "outputs": [
    {
     "data": {
      "text/html": [
       "1"
      ],
      "text/latex": [
       "1"
      ],
      "text/markdown": [
       "1"
      ],
      "text/plain": [
       "[1] 1"
      ]
     },
     "metadata": {},
     "output_type": "display_data"
    }
   ],
   "source": [
    "pos <- c(10, -10, 180)\n",
    "dist <- c(0.05, 0.05, 0.05)\n",
    "\n",
    "make_venn(\n",
    "    cc_enrichment_df %>%\n",
    "        filter(fdr < 0.05) %>%\n",
    "        select(go_cc, study),\n",
    "    'go_cc', '../img/reported_gene_cellular_component.png', pos, dist)"
   ]
  },
  {
   "cell_type": "code",
   "execution_count": 33,
   "metadata": {
    "scrolled": true
   },
   "outputs": [
    {
     "data": {
      "text/html": [
       "1"
      ],
      "text/latex": [
       "1"
      ],
      "text/markdown": [
       "1"
      ],
      "text/plain": [
       "[1] 1"
      ]
     },
     "metadata": {},
     "output_type": "display_data"
    }
   ],
   "source": [
    "pos <- c(10, -10, 180)\n",
    "dist <- c(0.05, 0.05, 0.05)\n",
    "\n",
    "make_venn(\n",
    "    mf_enrichment_df %>%\n",
    "        filter(fdr < 0.05) %>%\n",
    "        select(go_mf, study),\n",
    "    'go_mf', '../img/reported_gene_molecular_function.png', pos, dist)"
   ]
  },
  {
   "cell_type": "code",
   "execution_count": 34,
   "metadata": {
    "scrolled": true
   },
   "outputs": [
    {
     "data": {
      "text/html": [
       "1"
      ],
      "text/latex": [
       "1"
      ],
      "text/markdown": [
       "1"
      ],
      "text/plain": [
       "[1] 1"
      ]
     },
     "metadata": {},
     "output_type": "display_data"
    }
   ],
   "source": [
    "pos <- c(10, -10, 180)\n",
    "dist <- c(0.05, 0.05, 0.05)\n",
    "\n",
    "make_venn(\n",
    "    re_enrichment_df %>%\n",
    "        filter(fdr < 0.05) %>%\n",
    "        select(pathway, study),\n",
    "    'pathway', '../img/reported_gene_reactome.png', pos, dist)"
   ]
  },
  {
   "cell_type": "markdown",
   "metadata": {},
   "source": [
    "# Correlate effect size"
   ]
  },
  {
   "cell_type": "code",
   "execution_count": 35,
   "metadata": {},
   "outputs": [
    {
     "name": "stderr",
     "output_type": "stream",
     "text": [
      "Warning message:\n",
      "“Removed 208 rows containing missing values (geom_point).”Warning message:\n",
      "“Removed 211 rows containing missing values (geom_point).”"
     ]
    },
    {
     "data": {
      "image/png": "[encoded data removed]",
      "text/plain": [
       "plot without title"
      ]
     },
     "metadata": {},
     "output_type": "display_data"
    }
   ],
   "source": [
    "options(repr.plot.width = 5, repr.plot.height = 3)\n",
    "\n",
    "gwas_df %>%\n",
    "    select(study = 'STUDY ACCESSION', snp = SNP_ID_CURRENT, odds_ratio = 'OR or BETA',\n",
    "           p_value = 'P-VALUE', p_value_text = 'P-VALUE (TEXT)') %>%\n",
    "    filter(is.na(p_value_text) | !str_detect(p_value_text, 'men|female')) %>%\n",
    "    drop_na(snp) %>%\n",
    "    mutate(\n",
    "        population = study %>% recode(\n",
    "            'GCST008114' = 'African',\n",
    "            'GCST005047' = 'European',\n",
    "            'GCST007847' = 'Japanese'\n",
    "        )\n",
    "    ) %>%\n",
    "#     select(population, snp, odds_ratio) %>%\n",
    "    pivot_wider(id_cols = snp, names_from = population, values_from = odds_ratio) %>%\n",
    "    ggplot(aes(x = European)) + \n",
    "    geom_point(aes(y = Japanese), color = 'red') +\n",
    "    geom_point(aes(y = African), color = 'blue')"
   ]
  },
  {
   "cell_type": "code",
   "execution_count": 36,
   "metadata": {},
   "outputs": [
    {
     "data": {
      "text/html": [
       "<ol class=list-inline>\n",
       "\t<li>'go_bp'</li>\n",
       "\t<li>'bp_genes_refset'</li>\n",
       "\t<li>'bp_genes_input'</li>\n",
       "\t<li>'expected_genes'</li>\n",
       "\t<li>'over_under'</li>\n",
       "\t<li>'fold_enrichment'</li>\n",
       "\t<li>'raw_p_value'</li>\n",
       "\t<li>'fdr'</li>\n",
       "\t<li>'study'</li>\n",
       "\t<li>'population'</li>\n",
       "\t<li>'gene_type'</li>\n",
       "\t<li>'num_genes_input'</li>\n",
       "\t<li>'num_genes_refset'</li>\n",
       "</ol>\n"
      ],
      "text/latex": [
       "\\begin{enumerate*}\n",
       "\\item 'go\\_bp'\n",
       "\\item 'bp\\_genes\\_refset'\n",
       "\\item 'bp\\_genes\\_input'\n",
       "\\item 'expected\\_genes'\n",
       "\\item 'over\\_under'\n",
       "\\item 'fold\\_enrichment'\n",
       "\\item 'raw\\_p\\_value'\n",
       "\\item 'fdr'\n",
       "\\item 'study'\n",
       "\\item 'population'\n",
       "\\item 'gene\\_type'\n",
       "\\item 'num\\_genes\\_input'\n",
       "\\item 'num\\_genes\\_refset'\n",
       "\\end{enumerate*}\n"
      ],
      "text/markdown": [
       "1. 'go_bp'\n",
       "2. 'bp_genes_refset'\n",
       "3. 'bp_genes_input'\n",
       "4. 'expected_genes'\n",
       "5. 'over_under'\n",
       "6. 'fold_enrichment'\n",
       "7. 'raw_p_value'\n",
       "8. 'fdr'\n",
       "9. 'study'\n",
       "10. 'population'\n",
       "11. 'gene_type'\n",
       "12. 'num_genes_input'\n",
       "13. 'num_genes_refset'\n",
       "\n",
       "\n"
      ],
      "text/plain": [
       " [1] \"go_bp\"            \"bp_genes_refset\"  \"bp_genes_input\"   \"expected_genes\"  \n",
       " [5] \"over_under\"       \"fold_enrichment\"  \"raw_p_value\"      \"fdr\"             \n",
       " [9] \"study\"            \"population\"       \"gene_type\"        \"num_genes_input\" \n",
       "[13] \"num_genes_refset\""
      ]
     },
     "metadata": {},
     "output_type": "display_data"
    }
   ],
   "source": [
    "colnames(enrichment_df)"
   ]
  },
  {
   "cell_type": "code",
   "execution_count": 37,
   "metadata": {},
   "outputs": [
    {
     "data": {
      "text/html": [
       "<table>\n",
       "<caption>A tibble: 6 × 4</caption>\n",
       "<thead>\n",
       "\t<tr><th scope=col>go_bp</th><th scope=col>European</th><th scope=col>Japanese</th><th scope=col>African</th></tr>\n",
       "\t<tr><th scope=col>&lt;chr&gt;</th><th scope=col>&lt;chr&gt;</th><th scope=col>&lt;chr&gt;</th><th scope=col>&lt;chr&gt;</th></tr>\n",
       "</thead>\n",
       "<tbody>\n",
       "\t<tr><td>low-density lipoprotein particle receptor biosynthetic process (GO:0045713)</td><td>&gt; 100</td><td>&gt; 100 </td><td>&lt; 0.01</td></tr>\n",
       "\t<tr><td>negative regulation of pancreatic stellate cell proliferation (GO:2000230) </td><td>&gt; 100</td><td>&gt; 100 </td><td>&lt; 0.01</td></tr>\n",
       "\t<tr><td><span style=white-space:pre-wrap>negative regulation of branching morphogenesis of a nerve (GO:2000173)     </span></td><td>&gt; 100</td><td>&lt; 0.01</td><td>&lt; 0.01</td></tr>\n",
       "\t<tr><td><span style=white-space:pre-wrap>negative regulation of neuron remodeling (GO:1904800)                      </span></td><td>&gt; 100</td><td>&lt; 0.01</td><td>&lt; 0.01</td></tr>\n",
       "\t<tr><td><span style=white-space:pre-wrap>regulation of neuron remodeling (GO:1904799)                               </span></td><td>&gt; 100</td><td>&lt; 0.01</td><td>&lt; 0.01</td></tr>\n",
       "\t<tr><td><span style=white-space:pre-wrap>regulation of pronephros size (GO:0035565)                                 </span></td><td>&gt; 100</td><td>&gt; 100 </td><td>&lt; 0.01</td></tr>\n",
       "</tbody>\n",
       "</table>\n"
      ],
      "text/latex": [
       "A tibble: 6 × 4\n",
       "\\begin{tabular}{r|llll}\n",
       " go\\_bp & European & Japanese & African\\\\\n",
       " <chr> & <chr> & <chr> & <chr>\\\\\n",
       "\\hline\n",
       "\t low-density lipoprotein particle receptor biosynthetic process (GO:0045713) & > 100 & > 100  & < 0.01\\\\\n",
       "\t negative regulation of pancreatic stellate cell proliferation (GO:2000230)  & > 100 & > 100  & < 0.01\\\\\n",
       "\t negative regulation of branching morphogenesis of a nerve (GO:2000173)      & > 100 & < 0.01 & < 0.01\\\\\n",
       "\t negative regulation of neuron remodeling (GO:1904800)                       & > 100 & < 0.01 & < 0.01\\\\\n",
       "\t regulation of neuron remodeling (GO:1904799)                                & > 100 & < 0.01 & < 0.01\\\\\n",
       "\t regulation of pronephros size (GO:0035565)                                  & > 100 & > 100  & < 0.01\\\\\n",
       "\\end{tabular}\n"
      ],
      "text/markdown": [
       "\n",
       "A tibble: 6 × 4\n",
       "\n",
       "| go_bp &lt;chr&gt; | European &lt;chr&gt; | Japanese &lt;chr&gt; | African &lt;chr&gt; |\n",
       "|---|---|---|---|\n",
       "| low-density lipoprotein particle receptor biosynthetic process (GO:0045713) | &gt; 100 | &gt; 100  | &lt; 0.01 |\n",
       "| negative regulation of pancreatic stellate cell proliferation (GO:2000230)  | &gt; 100 | &gt; 100  | &lt; 0.01 |\n",
       "| negative regulation of branching morphogenesis of a nerve (GO:2000173)      | &gt; 100 | &lt; 0.01 | &lt; 0.01 |\n",
       "| negative regulation of neuron remodeling (GO:1904800)                       | &gt; 100 | &lt; 0.01 | &lt; 0.01 |\n",
       "| regulation of neuron remodeling (GO:1904799)                                | &gt; 100 | &lt; 0.01 | &lt; 0.01 |\n",
       "| regulation of pronephros size (GO:0035565)                                  | &gt; 100 | &gt; 100  | &lt; 0.01 |\n",
       "\n"
      ],
      "text/plain": [
       "  go_bp                                                                      \n",
       "1 low-density lipoprotein particle receptor biosynthetic process (GO:0045713)\n",
       "2 negative regulation of pancreatic stellate cell proliferation (GO:2000230) \n",
       "3 negative regulation of branching morphogenesis of a nerve (GO:2000173)     \n",
       "4 negative regulation of neuron remodeling (GO:1904800)                      \n",
       "5 regulation of neuron remodeling (GO:1904799)                               \n",
       "6 regulation of pronephros size (GO:0035565)                                 \n",
       "  European Japanese African\n",
       "1 > 100    > 100    < 0.01 \n",
       "2 > 100    > 100    < 0.01 \n",
       "3 > 100    < 0.01   < 0.01 \n",
       "4 > 100    < 0.01   < 0.01 \n",
       "5 > 100    < 0.01   < 0.01 \n",
       "6 > 100    > 100    < 0.01 "
      ]
     },
     "metadata": {},
     "output_type": "display_data"
    }
   ],
   "source": [
    "enrichment_df %>%\n",
    "mutate(\n",
    "    population = study %>% recode(\n",
    "        'GCST008114' = 'African',\n",
    "        'GCST005047' = 'European',\n",
    "        'GCST007847' = 'Japanese'\n",
    "    )\n",
    ") %>%\n",
    "filter(gene_type == 'mapped') %>%\n",
    "pivot_wider(id_cols = go_bp, names_from = population, values_from = fold_enrichment) %>%\n",
    "# ggplot(aes(x = European, y = Japanese)) + \n",
    "# geom_point()\n",
    "head"
   ]
  },
  {
   "cell_type": "code",
   "execution_count": 38,
   "metadata": {},
   "outputs": [
    {
     "data": {
      "image/png": "[encoded data removed]",
      "text/plain": [
       "plot without title"
      ]
     },
     "metadata": {},
     "output_type": "display_data"
    }
   ],
   "source": [
    "options(repr.plot.width = 6.5, repr.plot.height = 3.5)\n",
    "\n",
    "data.frame(\n",
    "    pop = c('Afr-Eur', 'Eur-Jpn', 'Afr-Jpn', \n",
    "            'Afr-Eur', 'Eur-Jpn', 'Afr-Jpn',\n",
    "            'Afr-Eur', 'Eur-Jpn', 'Afr-Jpn',\n",
    "            'Afr-Eur', 'Eur-Jpn', 'Afr-Jpn'),\n",
    "    x = c('SNP', 'SNP', 'SNP', \n",
    "          'Gene', 'Gene', 'Gene', \n",
    "          'Cytogenetic region', 'Cytogenetic region', 'Cytogenetic region', \n",
    "          'Biological Process', 'Biological Process', 'Biological Process'),\n",
    "    y = c(1 / 40, 3 / 139, 0,\n",
    "          0, 22 / 134, 0,\n",
    "          2 / 37, 26 / (11 + 26 + 58), 2 / (58 + 26),\n",
    "          0, 26 / (27 + 26 + 63), 0\n",
    "          )\n",
    ") %>%\n",
    "ggplot(aes(x = factor(x, levels = c('SNP', 'Gene', 'Cytogenetic region', 'Biological Process')), y = y, color = pop, group = pop)) +\n",
    "geom_point(size = 2.5, alpha = 0.7) +\n",
    "geom_line() +\n",
    "theme_classic() +\n",
    "xlab('Granularity') +\n",
    "ylab('Jaccard coefficient') +\n",
    "scale_color_discrete(name = 'Population pair') +\n",
    "ggsave('../img/jaccard_vs_gran.png', width = 6.5, height = 3.5, dpi = 600)"
   ]
  }
 ],
 "metadata": {
  "kernelspec": {
   "display_name": "R [conda env:gwas]",
   "language": "R",
   "name": "conda-env-gwas-r"
  },
  "language_info": {
   "codemirror_mode": "r",
   "file_extension": ".r",
   "mimetype": "text/x-r-source",
   "name": "R",
   "pygments_lexer": "r",
   "version": "3.5.1"
  }
 },
 "nbformat": 4,
 "nbformat_minor": 2
}
